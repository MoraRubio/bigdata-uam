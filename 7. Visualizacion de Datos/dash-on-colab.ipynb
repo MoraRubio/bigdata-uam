{
  "nbformat": 4,
  "nbformat_minor": 0,
  "metadata": {
    "colab": {
      "provenance": []
    },
    "kernelspec": {
      "name": "python3",
      "display_name": "Python 3"
    },
    "language_info": {
      "name": "python"
    }
  },
  "cells": [
    {
      "cell_type": "code",
      "execution_count": null,
      "metadata": {
        "id": "4RSGdBmRSjG7"
      },
      "outputs": [],
      "source": [
        "!pip install jupyter-dash -q"
      ]
    },
    {
      "cell_type": "code",
      "source": [
        "from jupyter_dash import JupyterDash\n",
        "from dash import dash_table, dcc, html, Input, Output\n",
        "import plotly.express as px\n",
        "import pandas as pd\n",
        "import seaborn as sns"
      ],
      "metadata": {
        "id": "-LZhIq-PSplg"
      },
      "execution_count": null,
      "outputs": []
    },
    {
      "cell_type": "code",
      "source": [
        "app = JupyterDash(__name__)\n",
        "df = sns.load_dataset(\"titanic\")\n",
        "fig_fare_vs_age = px.scatter(\n",
        "    df,\n",
        "    x=\"fare\",\n",
        "    y=\"age\",\n",
        "    size=\"pclass\",\n",
        "    color=\"alive\",\n",
        "    hover_name=\"embark_town\",\n",
        "    log_x=True,\n",
        "    size_max=60,\n",
        ")\n",
        "app.layout = html.Div(\n",
        "    children=[\n",
        "        html.H1(children=\"Titanic Dashboard\"),\n",
        "        dash_table.DataTable(\n",
        "            data=df.to_dict(\"records\"), page_size=9, style_table={\"overflowX\": \"auto\"}\n",
        "        ),\n",
        "        dcc.Graph(id=\"fare_vs_age\", figure=fig_fare_vs_age),\n",
        "        # Add interactive callback here\n",
        "        html.H4(\"Change the value in the text box to see callbacks in action\"),\n",
        "        html.Div(\n",
        "            [\"Input: \", dcc.Input(id=\"my-input\", value=\"initial value\", type=\"text\")]\n",
        "        ),\n",
        "        html.Br(),\n",
        "        html.Div(id=\"my-output\"),\n",
        "    ]\n",
        ")\n",
        "\n",
        "\n",
        "@app.callback(\n",
        "    Output(component_id=\"my-output\", component_property=\"children\"),\n",
        "    Input(component_id=\"my-input\", component_property=\"value\"),\n",
        ")\n",
        "def update_output_div(input_value):\n",
        "    return f\"Output: {input_value}\"\n",
        "\n",
        "app.run_server(mode='inline')"
      ],
      "metadata": {
        "id": "Uaz6ws8rSzaS"
      },
      "execution_count": null,
      "outputs": []
    },
    {
      "cell_type": "code",
      "source": [],
      "metadata": {
        "id": "6eeE1CqtS-Rh"
      },
      "execution_count": null,
      "outputs": []
    }
  ]
}