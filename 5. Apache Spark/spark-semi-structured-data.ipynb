{
  "cells": [
    {
      "attachments": {},
      "cell_type": "markdown",
      "metadata": {
        "id": "EUlL0qZedU77"
      },
      "source": [
        "![Spark Logo](http://spark-mooc.github.io/web-assets/images/ta_Spark-logo-small.png) + ![Python Logo](http://spark-mooc.github.io/web-assets/images/python-logo-master-v3-TM-flattened_small.png)\n",
        "# Datos semiestrucrados con MongoDB y Apache Spark\n",
        "## Configuración del ambiente en Google Colaboratory"
      ]
    },
    {
      "cell_type": "code",
      "execution_count": null,
      "metadata": {
        "colab": {
          "base_uri": "https://localhost:8080/"
        },
        "id": "VM0foTaodU7-",
        "outputId": "cdaf8262-4b66-46f1-d29a-c8b0c9a68958"
      },
      "outputs": [],
      "source": [
        "# Download Java\n",
        "!apt-get install openjdk-8-jdk-headless -qq > /dev/null\n",
        "# Next, we will install Apache Spark 3.0.1 with Hadoop 2.7 from here.\n",
        "!wget https://dlcdn.apache.org/spark/spark-3.3.2/spark-3.3.2-bin-hadoop3.tgz\n",
        "# Now, we just need to unzip that folder.\n",
        "!tar xf spark-3.3.2-bin-hadoop3.tgz\n",
        "\n",
        "# Setting JVM and Spark path variables\n",
        "import os \n",
        "os.environ[\"JAVA_HOME\"] = \"/usr/lib/jvm/java-8-openjdk-amd64\"\n",
        "os.environ[\"SPARK_HOME\"] = \"/content/spark-3.3.2-bin-hadoop3\"\n",
        "\n",
        "# Installing required packages\n",
        "!pip install -q pyspark==3.3.2\n",
        "!pip install -q findspark\n",
        "!pip install -q pymongo"
      ]
    },
    {
      "cell_type": "code",
      "execution_count": null,
      "metadata": {
        "colab": {
          "base_uri": "https://localhost:8080/"
        },
        "id": "gKtgpIfvGKVE",
        "outputId": "8a10ee5e-f6a4-4ef8-f6c6-89e12ff062d9"
      },
      "outputs": [],
      "source": [
        "%%bash\n",
        "# Install MongoDB\n",
        "sudo apt install -y mongodb > log\n",
        "service mongodb start"
      ]
    },
    {
      "cell_type": "code",
      "execution_count": null,
      "metadata": {
        "id": "wH1wfESmK9HV"
      },
      "outputs": [],
      "source": [
        "import time\n",
        "# Sleep for few seconds to let the instance start.\n",
        "time.sleep(5)"
      ]
    },
    {
      "cell_type": "code",
      "execution_count": null,
      "metadata": {
        "colab": {
          "base_uri": "https://localhost:8080/"
        },
        "id": "oKfThLxoGP3K",
        "outputId": "1ea920bc-2506-4dd5-f467-ddfed8dcc372"
      },
      "outputs": [],
      "source": [
        "%%bash\n",
        "# Check running instance of MongoDB\n",
        "ps -ef | grep mongo"
      ]
    },
    {
      "cell_type": "code",
      "execution_count": null,
      "metadata": {
        "id": "Uae65MRedU8A"
      },
      "outputs": [],
      "source": [
        "import re\n",
        "import numpy as np\n",
        "import pandas as pd\n",
        "import datetime as dt\n",
        "import matplotlib.pyplot as plt\n",
        "\n",
        "import findspark\n",
        "findspark.init()\n",
        "\n",
        "from pyspark import SparkContext\n",
        "\n",
        "from pymongo import MongoClient"
      ]
    },
    {
      "cell_type": "code",
      "execution_count": null,
      "metadata": {
        "colab": {
          "base_uri": "https://localhost:8080/"
        },
        "id": "eM5Om4RxGZ0V",
        "outputId": "39e4941d-535e-4de7-d8fa-e09ab3542227"
      },
      "outputs": [],
      "source": [
        "client = MongoClient()\n",
        "client.list_database_names() # ['admin', 'local']"
      ]
    },
    {
      "cell_type": "code",
      "execution_count": null,
      "metadata": {
        "colab": {
          "base_uri": "https://localhost:8080/"
        },
        "id": "QJ4kUrmIK0QL",
        "outputId": "fa1d42bb-47f8-435b-b8e8-6a0bbfff2912"
      },
      "outputs": [],
      "source": [
        "# Download data\n",
        "!wget https://github.com/words-sdsc/coursera/raw/master/big-data-3/mongodb/dump.tar.gz\n",
        "!tar xzf dump.tar.gz\n",
        "!mongorestore dump"
      ]
    },
    {
      "cell_type": "code",
      "execution_count": null,
      "metadata": {
        "colab": {
          "base_uri": "https://localhost:8080/"
        },
        "id": "rfMpiO8pRhLm",
        "outputId": "0729f576-c3b7-4689-9c8c-10871eaac41f"
      },
      "outputs": [],
      "source": [
        "client.list_database_names()"
      ]
    },
    {
      "attachments": {},
      "cell_type": "markdown",
      "metadata": {
        "id": "_fCoWipLJNg7"
      },
      "source": [
        "## Acerca de MongoDB\n",
        "[MongoDB](https://www.mongodb.com) es un sistema de gestión de bases de datos (DBMS) de código abierto y no relacional que utiliza documentos flexibles en lugar de tablas y filas para procesar y almacenar varias formas de datos. Como solución de base de datos NoSQL, MongoDB proporciona un modelo de almacenamiento de datos elástico que permite a los usuarios almacenar y consultar tipos de datos multivariables con facilidad. Esto no solo simplifica la gestión de bases de datos para los desarrolladores, sino que también crea un entorno altamente escalable para aplicaciones y servicios multiplataforma.\n",
        "\n",
        "Los documentos MongoDB o las colecciones de documentos son las unidades básicas de datos. Formateados como JSON binario (BSON), estos documentos pueden almacenar varios tipos de datos y distribuirse en múltiples sistemas. Dado que MongoDB emplea un diseño de esquema dinámico, los usuarios tienen una flexibilidad sin precedentes a la hora de crear registros de datos, consultar colecciones de documentos a través de la agregación de MongoDB y analizar grandes cantidades de información.\n",
        "\n",
        "![MongDB doc example](https://webimages.mongodb.com/_com_assets/cms/ldt00m23aaucjidsd-cmab-46.svg)\n",
        "\n",
        "**Casos de uso**\n",
        "\n",
        "*Aplicaciones móviles:*\n",
        "El modelo de documento JSON de MongoDB le permite almacenar datos de aplicaciones de back-end donde los necesite, incluso en dispositivos Apple iOS y Android, así como en soluciones de almacenamiento basadas en la nube. Esta flexibilidad le permite agregar datos a través de múltiples entornos con indexación secundaria y geoespacial, lo que brinda a los desarrolladores la capacidad de escalar sus aplicaciones móviles sin problemas.\n",
        "\n",
        "*Análisis en tiempo real:*\n",
        "A medida que las empresas escalan sus operaciones, es fundamental obtener acceso a métricas clave y conocimientos empresariales de grandes conjuntos de datos. MongoDB maneja la conversión de documentos JSON y similares a JSON, como BSON, en objetos Java sin esfuerzo, lo que hace que la lectura y escritura de datos en MongoDB sea rápida e increíblemente eficiente al analizar información en tiempo real en múltiples entornos de desarrollo. Esto ha demostrado ser beneficioso para varios sectores empresariales, incluidos el gobierno, los servicios financieros y el comercio minorista.\n",
        "\n",
        "*Sistemas de gestión de contenidos:*\n",
        "Los sistemas de gestión de contenidos (CMS) son herramientas poderosas que desempeñan un papel importante para garantizar experiencias de usuario positivas al acceder a sitios de comercio electrónico, publicaciones en línea, plataformas de gestión de documentos y otras aplicaciones y servicios. Al usar MongoDB, puede agregar fácilmente nuevas características y atributos a sus aplicaciones y sitios web en línea utilizando una sola base de datos y con alta disponibilidad.\n",
        "\n",
        "*Almacén de datos empresariales:*\n",
        "El marco Apache Hadoop es una colección de módulos de código abierto, incluidos Hadoop Distributed File System y Hadoop MapReduce, que trabajan con MongoDB para almacenar, procesar y analizar grandes cantidades de datos. Las organizaciones pueden usar MongoDB y Hadoop para realizar modelos de riesgos, análisis predictivos y procesamiento de datos en tiempo real.\n",
        "\n",
        "Información tomada en parte de [IBM](https://www.ibm.com/topics/mongodb)"
      ]
    },
    {
      "attachments": {},
      "cell_type": "markdown",
      "metadata": {
        "id": "LzufCAMGdU8A"
      },
      "source": [
        "## Funciones básicas de MongoDB\n",
        "Para empezar podemos seleccionar la base de datos con la que queremos trabajar usando la misma sintaxis de diccionarios, y podemos visualizar las colecciones o documentos en una base de datos con `list_collection_names`."
      ]
    },
    {
      "cell_type": "code",
      "execution_count": null,
      "metadata": {
        "colab": {
          "base_uri": "https://localhost:8080/"
        },
        "id": "FrMJXdh4UlQQ",
        "outputId": "2b4f8a77-4d78-4509-d5ed-fb9e47e031bb"
      },
      "outputs": [],
      "source": [
        "db = client['sample']\n",
        "db.list_collection_names()"
      ]
    },
    {
      "attachments": {},
      "cell_type": "markdown",
      "metadata": {
        "id": "N_jsaVLOUoGE"
      },
      "source": [
        "Podemos usar el método `count_documents` para ver cuántos registros tenemos en nuestra colección.."
      ]
    },
    {
      "cell_type": "code",
      "execution_count": null,
      "metadata": {
        "colab": {
          "base_uri": "https://localhost:8080/"
        },
        "id": "gVut-QqUVNN-",
        "outputId": "abc30fbd-a403-4f7b-bd13-33466d5f5da5"
      },
      "outputs": [],
      "source": [
        "db.users.count_documents({})"
      ]
    },
    {
      "attachments": {},
      "cell_type": "markdown",
      "metadata": {
        "id": "R4LxR1KPVZde"
      },
      "source": [
        "Para examinar el contenido de uno de los registros, podemos usar el método `find_one`."
      ]
    },
    {
      "cell_type": "code",
      "execution_count": null,
      "metadata": {
        "colab": {
          "base_uri": "https://localhost:8080/"
        },
        "id": "TYyb5nzDVY5R",
        "outputId": "e62af5ef-a92f-4da6-956c-511cc2be59d2"
      },
      "outputs": [],
      "source": [
        "db.users.find_one()"
      ]
    },
    {
      "attachments": {},
      "cell_type": "markdown",
      "metadata": {
        "id": "QtX8V4uwVsZP"
      },
      "source": [
        "Aquí podemos notar que cada registro tiene distintos campos o llaves, por ejemplo, *user_name*, *retweet_count*, *tweet_ID*, etc., y campos anidados bajo *user*,por ejemplo, *CreatedAt*, *UserId*, *Location*, etc.\n",
        "\n",
        "Para encontrar los valores únicos en un campo específico podemos usar el método `distinct`, por ejemplo, los siguientes son los valores únicos para el campo *user_name*:"
      ]
    },
    {
      "cell_type": "code",
      "execution_count": null,
      "metadata": {
        "colab": {
          "base_uri": "https://localhost:8080/"
        },
        "id": "QahC76N8WWzn",
        "outputId": "800f6a02-8732-4dd7-ccc4-a514596de04a"
      },
      "outputs": [],
      "source": [
        "db.users.distinct('user_name')"
      ]
    },
    {
      "attachments": {},
      "cell_type": "markdown",
      "metadata": {
        "id": "FVLxR_7cWiTi"
      },
      "source": [
        "Las *queries* o consultas se realizan con el método `find` donde el primer parámetro son las condiciones de búsqueda. "
      ]
    },
    {
      "cell_type": "code",
      "execution_count": null,
      "metadata": {
        "colab": {
          "base_uri": "https://localhost:8080/"
        },
        "id": "_0bk8kJGWtkO",
        "outputId": "62827b1e-f21c-4eec-898f-1b1e166b3866"
      },
      "outputs": [],
      "source": [
        "db.users.find({'user_name':'Hobbision123'})"
      ]
    },
    {
      "attachments": {},
      "cell_type": "markdown",
      "metadata": {
        "id": "FiggekRgXD4a"
      },
      "source": [
        "El cual retorna un objeto *Cursor* sobre el que podemos iterar para mostrar los resultados."
      ]
    },
    {
      "cell_type": "code",
      "execution_count": null,
      "metadata": {
        "colab": {
          "base_uri": "https://localhost:8080/"
        },
        "id": "9XthhtctXMnC",
        "outputId": "3cb0b66f-931f-4099-b2db-cc8fa683e054"
      },
      "outputs": [],
      "source": [
        "from pprint import pprint # Para darle formato a los resultados y hacerlos más legibles\n",
        "for registro in db.users.find({'user_name':'Hobbision123'}):\n",
        "  pprint(registro)"
      ]
    },
    {
      "attachments": {},
      "cell_type": "markdown",
      "metadata": {
        "id": "bsny1eXpYE3z"
      },
      "source": [
        "El segundo parámetro son los atributos que deseo obtener de la consulta."
      ]
    },
    {
      "cell_type": "code",
      "execution_count": null,
      "metadata": {
        "colab": {
          "base_uri": "https://localhost:8080/"
        },
        "id": "KG5gSuzdYJ62",
        "outputId": "0feed723-7bcd-446b-94da-c22bfaed84bd"
      },
      "outputs": [],
      "source": [
        "for registro in db.users.find({'user_name':'Hobbision123'}, {'tweet_text':True}):\n",
        "  pprint(registro)"
      ]
    },
    {
      "cell_type": "code",
      "execution_count": null,
      "metadata": {
        "colab": {
          "base_uri": "https://localhost:8080/"
        },
        "id": "R3_AbVe3YVWP",
        "outputId": "99ff933a-547f-451c-a2bd-b86e11ffad56"
      },
      "outputs": [],
      "source": [
        "for registro in db.users.find({'user_name':'Hobbision123'}, {'tweet_text':True, '_id':False}):\n",
        "  pprint(registro)"
      ]
    },
    {
      "attachments": {},
      "cell_type": "markdown",
      "metadata": {
        "id": "Yuaii8CBYk0L"
      },
      "source": [
        "Si utilizamos el método `count_documents` con una condición de búsqueda obtenemos el número de registros que cumplen la condición."
      ]
    },
    {
      "cell_type": "code",
      "execution_count": null,
      "metadata": {
        "colab": {
          "base_uri": "https://localhost:8080/"
        },
        "id": "RrpqKrgjYjlJ",
        "outputId": "2bd1b785-5fd1-469b-cbe4-1241d8312df4"
      },
      "outputs": [],
      "source": [
        "db.users.count_documents({'user_name':'Hobbision123'})"
      ]
    },
    {
      "attachments": {},
      "cell_type": "markdown",
      "metadata": {
        "id": "pPRvgxzMayAG"
      },
      "source": [
        "Las consultas se hacen por comparación literal o textual, si realizamos la búsqueda por la palabra *FIFA* en el contenido del tweet no vamos a obtener ningún resultado, pues no hay ningún tweet que sea solo esa palabra."
      ]
    },
    {
      "cell_type": "code",
      "execution_count": null,
      "metadata": {
        "colab": {
          "base_uri": "https://localhost:8080/"
        },
        "id": "U_bZDlKqZ9_F",
        "outputId": "6c21f737-c634-4e0e-9031-02f5ee45f103"
      },
      "outputs": [],
      "source": [
        "db.users.count_documents({'tweet_text':'FIFA'})"
      ]
    },
    {
      "attachments": {},
      "cell_type": "markdown",
      "metadata": {
        "id": "y16Xhn_qbIhu"
      },
      "source": [
        "Por el contrario, si queremos encontrar los tweets en los que aparece la palabra *FIFA*, debemos usar expresiones regulares (*regEx*) para buscar ese patrón en el texto de los tweets"
      ]
    },
    {
      "cell_type": "code",
      "execution_count": null,
      "metadata": {
        "colab": {
          "base_uri": "https://localhost:8080/"
        },
        "id": "SG1O7oNZZyod",
        "outputId": "20ef5e0a-9efc-4882-e802-ed16d0c4fea2"
      },
      "outputs": [],
      "source": [
        "import re\n",
        "regex = re.compile(r'FIFA')\n",
        "db.users.count_documents({'tweet_text':regex})"
      ]
    },
    {
      "cell_type": "code",
      "execution_count": null,
      "metadata": {
        "colab": {
          "base_uri": "https://localhost:8080/"
        },
        "id": "LEOVMbrEbZYr",
        "outputId": "3f973e50-b698-45f2-b743-42a5f09b2e3d"
      },
      "outputs": [],
      "source": [
        "# Con el argumento \"limit\" indicamos cuántos resultados queremos retornar\n",
        "for registro in db.users.find({'tweet_text':regex}, limit=2):\n",
        "  pprint(registro)"
      ]
    },
    {
      "attachments": {},
      "cell_type": "markdown",
      "metadata": {
        "id": "4l70V3pubX45"
      },
      "source": [
        "De manera similar para valores númericos, la siguiente expresión solo retorna los registros en los que el campo *tweet_mentioned_count* tiene un valor de 6."
      ]
    },
    {
      "cell_type": "code",
      "execution_count": null,
      "metadata": {
        "colab": {
          "base_uri": "https://localhost:8080/"
        },
        "id": "2Rofd3E_eNL8",
        "outputId": "1a72888a-1a67-4651-a8af-562d30d266fd"
      },
      "outputs": [],
      "source": [
        "db.users.count_documents({\"tweet_mentioned_count\":6})"
      ]
    },
    {
      "attachments": {},
      "cell_type": "markdown",
      "metadata": {
        "id": "CQdxnPOmeZQe"
      },
      "source": [
        "Para otro tipo de comparaciones debemos utilizar operadores propios de **MongoDB** como `$gt` para comparaciones mayor que (greater than).\n",
        "\n",
        "Una lista completa de los operadores se puede encontrar en la [documentación](https://www.mongodb.com/docs/drivers/node/current/fundamentals/crud/query-document/)."
      ]
    },
    {
      "cell_type": "code",
      "execution_count": null,
      "metadata": {
        "colab": {
          "base_uri": "https://localhost:8080/"
        },
        "id": "WlFEliNjc0Q7",
        "outputId": "d252363a-7420-49e2-e217-2057df371b3a"
      },
      "outputs": [],
      "source": [
        "db.users.count_documents({\"tweet_mentioned_count\":{'$gt':6}})"
      ]
    },
    {
      "cell_type": "code",
      "execution_count": null,
      "metadata": {
        "colab": {
          "base_uri": "https://localhost:8080/"
        },
        "id": "_s63uLi0cDdn",
        "outputId": "3721e690-17b7-4ef0-e4b3-6231dd834508"
      },
      "outputs": [],
      "source": [
        "for registro in db.users.find({\"tweet_mentioned_count\":{'$gt':6}}):\n",
        "  pprint(registro)"
      ]
    },
    {
      "attachments": {},
      "cell_type": "markdown",
      "metadata": {
        "id": "eKUGox4rfZK8"
      },
      "source": [
        "Para consultas con comparaciones entre campos del mismo registro, se debe utilizar el operador `$expr` como en el siguiente ejemplo:"
      ]
    },
    {
      "cell_type": "code",
      "execution_count": null,
      "metadata": {
        "colab": {
          "base_uri": "https://localhost:8080/"
        },
        "id": "llaEljtffqF2",
        "outputId": "caa57783-646b-4a02-9d1b-183ec37146d2"
      },
      "outputs": [],
      "source": [
        "db.users.count_documents({'$expr':\n",
        "                          {'$gt':['$tweet_mentioned_count', '$tweet_followers_count']}\n",
        "                          })"
      ]
    },
    {
      "cell_type": "code",
      "execution_count": null,
      "metadata": {
        "colab": {
          "base_uri": "https://localhost:8080/"
        },
        "id": "QLaOLhXfgciR",
        "outputId": "c4d76bba-a6ec-4f6d-fa57-d1459ee95a50"
      },
      "outputs": [],
      "source": [
        "for registro in db.users.find({'$expr':\n",
        "                               {'$gt':['$tweet_mentioned_count', '$tweet_followers_count']}\n",
        "                               }\n",
        "                              ,limit=1):\n",
        "  pprint(registro)"
      ]
    },
    {
      "attachments": {},
      "cell_type": "markdown",
      "metadata": {
        "id": "lUMyJtaYguhz"
      },
      "source": [
        "Para consultas con varias condiciones se usan los operadores lógicos como se muestra a continuación:"
      ]
    },
    {
      "cell_type": "code",
      "execution_count": null,
      "metadata": {
        "colab": {
          "base_uri": "https://localhost:8080/"
        },
        "id": "35HqfoQJg3zA",
        "outputId": "c748df80-5ef5-4fe5-b2a4-c69305f68813"
      },
      "outputs": [],
      "source": [
        "db.users.count_documents({'$and':[{\"tweet_mentioned_count\":{'$gt':4}}, {'tweet_text':regex}]})"
      ]
    },
    {
      "cell_type": "code",
      "execution_count": null,
      "metadata": {
        "colab": {
          "base_uri": "https://localhost:8080/"
        },
        "id": "WrBz7hQPhpnz",
        "outputId": "99e0c1f2-f726-480c-eb18-48348245b077"
      },
      "outputs": [],
      "source": [
        "for registro in db.users.find({'$and':[{\"tweet_mentioned_count\":{'$gt':4}}, {'tweet_text':regex}]}):\n",
        "  pprint(registro)"
      ]
    },
    {
      "attachments": {},
      "cell_type": "markdown",
      "metadata": {
        "id": "omrF5dgMmRHC"
      },
      "source": [
        "## Ejercicios\n",
        "\n",
        "Basándose en los ejemplos vistos en este notebook y en la [documentación](https://www.mongodb.com/docs/drivers/node/current/fundamentals/crud/query-document/), resuelva:\n",
        "\n",
        "**1.** ¿Cuántos registros cumplen con $tweet\\_mentioned\\_count < 4$?"
      ]
    },
    {
      "cell_type": "code",
      "execution_count": null,
      "metadata": {
        "colab": {
          "base_uri": "https://localhost:8080/"
        },
        "id": "LHoYgaA-mSXq",
        "outputId": "a50d175d-0b88-4703-d0a6-add1a9cf609e"
      },
      "outputs": [],
      "source": []
    },
    {
      "attachments": {},
      "cell_type": "markdown",
      "metadata": {
        "id": "P6haLGhfnRy5"
      },
      "source": [
        "**2.** ¿Cuántos registros cumplen con $tweet\\_mentioned\\_count > 4$ o $tweet\\_followers\\_count \\leq 4$? Muestre 5."
      ]
    },
    {
      "cell_type": "code",
      "execution_count": null,
      "metadata": {
        "colab": {
          "base_uri": "https://localhost:8080/"
        },
        "id": "I6-3odj8oYg0",
        "outputId": "dc4ab9ec-8709-4c54-ad94-7f987dccb0ce"
      },
      "outputs": [],
      "source": []
    },
    {
      "cell_type": "code",
      "execution_count": null,
      "metadata": {
        "colab": {
          "base_uri": "https://localhost:8080/"
        },
        "id": "tFsK17eAnjgN",
        "outputId": "d3879261-94c6-4aad-b897-1043bc7b8116"
      },
      "outputs": [],
      "source": []
    },
    {
      "attachments": {},
      "cell_type": "markdown",
      "metadata": {
        "id": "KpCDwjAwnlme"
      },
      "source": [
        "**3.** Extraiga todos los textos de los tweets en la colección y realice el conteo de palabras utilizando la función creada con Apache Spark en la sesión anterior."
      ]
    },
    {
      "cell_type": "code",
      "execution_count": null,
      "metadata": {
        "colab": {
          "base_uri": "https://localhost:8080/"
        },
        "id": "DSGcNwTyqjWD",
        "outputId": "f919f50b-a725-41b5-877c-bf5acfa99b62"
      },
      "outputs": [],
      "source": []
    },
    {
      "attachments": {},
      "cell_type": "markdown",
      "metadata": {},
      "source": [
        "**¿Qué operaciones adicionales de limpieza de texto considera necesarias?**"
      ]
    }
  ],
  "metadata": {
    "colab": {
      "provenance": []
    },
    "gpuClass": "standard",
    "kernelspec": {
      "display_name": "Python 3",
      "name": "python3"
    },
    "language_info": {
      "name": "python"
    },
    "orig_nbformat": 4
  },
  "nbformat": 4,
  "nbformat_minor": 0
}
