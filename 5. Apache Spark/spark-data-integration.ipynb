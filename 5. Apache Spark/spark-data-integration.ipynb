{
  "cells": [
    {
      "attachments": {},
      "cell_type": "markdown",
      "metadata": {
        "id": "m0o6puVMmUIN"
      },
      "source": [
        "# Integración de datos con *Apache Spark*\n",
        "De manera general, la integración de datos se refiere a realizar consultas para las cuales los datos están divididos en distintas tablas, o incluso almacenados en distintas máquinas. En la vida real, se presentan casos complejos en los que los esquemas de las tablas no son exactamente iguales, por lo que hay que hacer un trabajo previo de correspondencia entre los atributos. En este notebook trabajaremos con un ejemplo simple de integración de datos usando el dataset [MovieLens](https://grouplens.org/datasets/movielens/)"
      ]
    },
    {
      "attachments": {},
      "cell_type": "markdown",
      "metadata": {
        "id": "fuwpUDOZOMau"
      },
      "source": [
        "## Configuración del ambiente en Google Colaboratory"
      ]
    },
    {
      "cell_type": "code",
      "execution_count": null,
      "metadata": {
        "colab": {
          "base_uri": "https://localhost:8080/"
        },
        "id": "WrlYRkysmUIO",
        "outputId": "7ba73dde-0728-439d-f673-0bf9875472e3"
      },
      "outputs": [],
      "source": [
        "# Download Java\n",
        "!apt-get install openjdk-8-jdk-headless -qq > /dev/null\n",
        "# Next, we will install Apache Spark 3.0.1 with Hadoop 2.7 from here.\n",
        "!wget https://dlcdn.apache.org/spark/spark-3.3.2/spark-3.3.2-bin-hadoop3.tgz\n",
        "# Now, we just need to unzip that folder.\n",
        "!tar xf spark-3.3.2-bin-hadoop3.tgz\n",
        "\n",
        "# Setting JVM and Spark path variables\n",
        "import os \n",
        "os.environ[\"JAVA_HOME\"] = \"/usr/lib/jvm/java-8-openjdk-amd64\"\n",
        "os.environ[\"SPARK_HOME\"] = \"/content/spark-3.3.2-bin-hadoop3\"\n",
        "\n",
        "# Installing required packages\n",
        "!pip install pyspark==3.3.2\n",
        "!pip install findspark"
      ]
    },
    {
      "cell_type": "code",
      "execution_count": null,
      "metadata": {
        "id": "AGAEWB7tmUIP"
      },
      "outputs": [],
      "source": [
        "# Importamos las librerias necesarias\n",
        "import numpy as np\n",
        "import pandas as pd\n",
        "import datetime as dt\n",
        "import matplotlib.pyplot as plt\n",
        "\n",
        "import findspark\n",
        "findspark.init()\n",
        "\n",
        "from pyspark.sql import SparkSession\n",
        "from pyspark.sql import functions as fct"
      ]
    },
    {
      "cell_type": "code",
      "execution_count": null,
      "metadata": {
        "colab": {
          "base_uri": "https://localhost:8080/"
        },
        "id": "w1pSUeKmHebU",
        "outputId": "4420e8c5-9810-43d9-9c8b-226949901822"
      },
      "outputs": [],
      "source": [
        "# Descargamos el dataset\n",
        "!wget -q https://files.grouplens.org/datasets/movielens/ml-latest-small.zip\n",
        "!unzip ml-latest-small.zip\n",
        "%cd ml-latest-small"
      ]
    },
    {
      "cell_type": "code",
      "execution_count": null,
      "metadata": {
        "colab": {
          "base_uri": "https://localhost:8080/"
        },
        "id": "D-ZuySzbIXgf",
        "outputId": "cc81e72c-4a25-42a0-b923-0d91fc9ef967"
      },
      "outputs": [],
      "source": [
        "!echo \"Lista de archivos en el dataset: \"\n",
        "!ls"
      ]
    },
    {
      "cell_type": "code",
      "execution_count": null,
      "metadata": {
        "colab": {
          "base_uri": "https://localhost:8080/"
        },
        "id": "bz2Ch6lWI4HX",
        "outputId": "16b1ff77-c5ee-424f-9d19-b38ee28be4a8"
      },
      "outputs": [],
      "source": [
        "!cat README.txt"
      ]
    },
    {
      "cell_type": "code",
      "execution_count": null,
      "metadata": {
        "id": "_TooSpsLmUIP"
      },
      "outputs": [],
      "source": [
        "# Iniciamos la sesión de Spark\n",
        "ss = (SparkSession\n",
        "      .builder\n",
        "      .appName(\"data_integration\")\n",
        "      .getOrCreate())"
      ]
    },
    {
      "attachments": {},
      "cell_type": "markdown",
      "metadata": {
        "id": "sNog8KhamUIP"
      },
      "source": [
        "## Lectura de los datos\n"
      ]
    },
    {
      "cell_type": "code",
      "execution_count": null,
      "metadata": {
        "colab": {
          "base_uri": "https://localhost:8080/"
        },
        "id": "M2fAqn_rK3e-",
        "outputId": "09b9f7e1-9f7f-4bfc-fe6e-62ff1c0b2a50"
      },
      "outputs": [],
      "source": [
        "# Información sobre las películas\n",
        "!head movies.csv"
      ]
    },
    {
      "cell_type": "code",
      "execution_count": null,
      "metadata": {
        "colab": {
          "base_uri": "https://localhost:8080/"
        },
        "id": "G-ZJk0OQH3OD",
        "outputId": "5e84304d-e341-49b5-98d5-f283ea012f86"
      },
      "outputs": [],
      "source": [
        "movies_data = ss.read.csv('/content/ml-latest-small/movies.csv', sep=',',\n",
        "                          header=True, quote='\"', \n",
        "                          schema='movieId INT, title STRING, genres STRING')\n",
        "movies_data.printSchema()\n",
        "movies_data.head(5)"
      ]
    },
    {
      "cell_type": "code",
      "execution_count": null,
      "metadata": {
        "colab": {
          "base_uri": "https://localhost:8080/"
        },
        "id": "hBzfE64ZSime",
        "outputId": "0e6c89ff-cea9-4133-d4b6-47ac8360925f"
      },
      "outputs": [],
      "source": [
        "# Información sobre las valoraciones de los usuarios\n",
        "!head ratings.csv"
      ]
    },
    {
      "cell_type": "code",
      "execution_count": null,
      "metadata": {
        "colab": {
          "base_uri": "https://localhost:8080/"
        },
        "id": "jJbs1fVoSmei",
        "outputId": "d410e37d-6b3c-4061-fd9f-db6afd6626a3"
      },
      "outputs": [],
      "source": [
        "ratings_data = ss.read.csv('/content/ml-latest-small/ratings.csv', sep=',',\n",
        "                           header=True, quote='\"',\n",
        "                           schema='userId INT, movieId INT, rating DOUBLE, timestamp INT')\n",
        "ratings_data.printSchema()\n",
        "ratings_data.head(5)"
      ]
    },
    {
      "cell_type": "code",
      "execution_count": null,
      "metadata": {
        "colab": {
          "base_uri": "https://localhost:8080/"
        },
        "id": "-VS_G4n0Og_h",
        "outputId": "bbad618d-3e92-4f13-c0ce-427a679b41cf"
      },
      "outputs": [],
      "source": [
        "# Información sobre los tags creados por el usuario\n",
        "!head tags.csv"
      ]
    },
    {
      "cell_type": "code",
      "execution_count": null,
      "metadata": {
        "colab": {
          "base_uri": "https://localhost:8080/"
        },
        "id": "gczc3kWcmUIR",
        "outputId": "7c522aa8-ab62-4dc2-d2ee-36bb9fd2b9a4"
      },
      "outputs": [],
      "source": [
        "tags_data = ss.read.csv('/content/ml-latest-small/tags.csv', sep=',',\n",
        "                        header=True, quote='\"',\n",
        "                        schema=<SU CODIGO>)\n",
        "tags_data.printSchema()\n",
        "tags_data.head(5)"
      ]
    },
    {
      "attachments": {},
      "cell_type": "markdown",
      "metadata": {
        "id": "g4IoKh53UhOs"
      },
      "source": [
        "### Conversión de las etiquetas de tiempo"
      ]
    },
    {
      "cell_type": "code",
      "execution_count": null,
      "metadata": {
        "colab": {
          "base_uri": "https://localhost:8080/"
        },
        "id": "Ri-gS_fOTJoR",
        "outputId": "4cce8ed5-1cdf-402b-fa14-0c4dcde6e3f0"
      },
      "outputs": [],
      "source": [
        "# Obtener el año a partir de la etiqueta de tiempo (timestamp)\n",
        "get_year = fct.udf(lambda x: dt.datetime.fromtimestamp(x/1000.0).year)\n",
        "# Almacenar el año en una nueva columna del DataFrame\n",
        "ratings_data = ratings_data.withColumn(\"year\", get_year(ratings_data.timestamp))\n",
        "tags_data = tags_data.withColumn(\"year\", get_year(tags_data.timestamp))\n",
        "# Primeras filas de los DataFrame de valoraciones y etiquetas\n",
        "ratings_data.show(5)\n",
        "tags_data.show(5)"
      ]
    },
    {
      "attachments": {},
      "cell_type": "markdown",
      "metadata": {
        "id": "W9MS-AHKY3F5"
      },
      "source": [
        "### Información básica de los datos"
      ]
    },
    {
      "cell_type": "code",
      "execution_count": null,
      "metadata": {
        "colab": {
          "base_uri": "https://localhost:8080/"
        },
        "id": "43mUACl0ZZe5",
        "outputId": "7c76e5a8-0df1-4d52-ee39-b2f4cae141c7"
      },
      "outputs": [],
      "source": [
        "res = (movies_data\n",
        "       .select('movieId')\n",
        "       .dropDuplicates()\n",
        "       .count())\n",
        "print(f'{res} películas')"
      ]
    },
    {
      "cell_type": "code",
      "execution_count": null,
      "metadata": {
        "colab": {
          "base_uri": "https://localhost:8080/"
        },
        "id": "N_Aob5wWZmpB",
        "outputId": "7ff8a1cb-0ea3-4013-b2be-8052af3383c7"
      },
      "outputs": [],
      "source": [
        "res = (ratings_data\n",
        "       .count())\n",
        "print(f'{res} valoraciones')"
      ]
    },
    {
      "cell_type": "code",
      "execution_count": null,
      "metadata": {
        "colab": {
          "base_uri": "https://localhost:8080/"
        },
        "id": "T67MRJkwmUIS",
        "outputId": "1e730188-636c-4b0a-c4ae-1cd81a8ad01f"
      },
      "outputs": [],
      "source": [
        "res = (ratings_data\n",
        "       .select('userId')\n",
        "       .dropDuplicates()\n",
        "       .count())\n",
        "print(f'{res} usuarios con valoraciones para al menos una película')"
      ]
    },
    {
      "cell_type": "code",
      "execution_count": null,
      "metadata": {
        "colab": {
          "base_uri": "https://localhost:8080/"
        },
        "id": "hxkW8UJyZvD1",
        "outputId": "df16cff8-20ec-4ac3-df66-9d0a17d42c56"
      },
      "outputs": [],
      "source": [
        "print('Distribución de las valoraciones:')\n",
        "(ratings_data\n",
        " .groupby('rating')\n",
        " .count()\n",
        " .sort(fct.desc('rating'))\n",
        " .show())"
      ]
    },
    {
      "cell_type": "code",
      "execution_count": null,
      "metadata": {
        "colab": {
          "base_uri": "https://localhost:8080/"
        },
        "id": "UacUi-aEapKx",
        "outputId": "364df806-16d5-4475-c504-f2d19d0372de"
      },
      "outputs": [],
      "source": [
        "print('Datos originales: ')\n",
        "(movies_data\n",
        " .show(1))\n",
        "print('Modificación sobre la columna género: ')\n",
        "movies_data_genre = (movies_data\n",
        "                     .withColumn(\"genres_array\", fct.split(\"genres\", \"\\|\")) # Generar una lista con los diferentes géneros\n",
        "                     .withColumn(\"genre\", fct.explode(\"genres_array\")) # Generar un \"nuevo\" registro por cada género de una película\n",
        "                     .select(\"movieId\", \"title\", \"genre\"))\n",
        "movies_data_genre.show(5)\n",
        "print('Géneros únicos de películas: ')\n",
        "(movies_data\n",
        " .withColumn(\"genres_array\", fct.split(\"genres\", \"\\|\"))\n",
        " .withColumn(\"genre\", fct.explode(\"genres_array\"))\n",
        " .select(\"genre\")\n",
        " .dropDuplicates()\n",
        " .sort(fct.asc(\"genre\"))\n",
        " .show())"
      ]
    },
    {
      "attachments": {},
      "cell_type": "markdown",
      "metadata": {
        "id": "ogyAa1oVe7hx"
      },
      "source": [
        "## Combinaciones [[ref]](https://support.microsoft.com/es-es/office/combinar-tablas-y-consultas-3f5838bd-24a0-4832-9bc1-07061a1478f6)"
      ]
    },
    {
      "attachments": {},
      "cell_type": "markdown",
      "metadata": {
        "id": "AVRN9DdsgXCu"
      },
      "source": [
        "### Combinaciones internas (Inner Joins)\n",
        "\n",
        "Una combinación interna es una en la que solo se incluyen datos de una tabla si hay datos correspondientes en la tabla relacionada y viceversa."
      ]
    },
    {
      "cell_type": "code",
      "execution_count": null,
      "metadata": {
        "colab": {
          "base_uri": "https://localhost:8080/"
        },
        "id": "ifgCixuFg5r4",
        "outputId": "230ec666-dd69-4519-ee9e-55139188f220"
      },
      "outputs": [],
      "source": [
        "movies_data_inner = movies_data.join(ratings_data, [\"movieId\"], \"inner\")\n",
        "print(f'{movies_data_inner.count()} filas con una unión interna')\n",
        "movies_data_inner.show()"
      ]
    },
    {
      "attachments": {},
      "cell_type": "markdown",
      "metadata": {
        "id": "zBtiYUrGiCTx"
      },
      "source": [
        "### Combinaciones externas (Outer Joins)\n",
        "\n",
        "Una combinación externa es como una combinación interna, pero agrega las filas restantes de una de las tablas. Las combinaciones externas son direccionales: una combinación externa izquierda incluye todos los registros de la tabla izquierda (la primera tabla de la combinación) y una combinación externa derecha incluye todos los registros de la tabla derecha, la segunda tabla de la combinación. "
      ]
    },
    {
      "cell_type": "code",
      "execution_count": null,
      "metadata": {
        "colab": {
          "base_uri": "https://localhost:8080/"
        },
        "id": "Sms2Q9QDiRtM",
        "outputId": "54c5db87-d352-4a45-9bf8-ed576f70fccf"
      },
      "outputs": [],
      "source": [
        "# LEFT OUTER\n",
        "movies_data_outer_l = movies_data.join(ratings_data, [\"movieId\"], \"left\")\n",
        "print(f'{movies_data_outer_l.count()} filas con una unión externa (izq)')\n",
        "movies_data_outer_l.show()"
      ]
    },
    {
      "cell_type": "code",
      "execution_count": null,
      "metadata": {
        "colab": {
          "base_uri": "https://localhost:8080/"
        },
        "id": "3Mrv_1SiiUQp",
        "outputId": "32f75332-1cac-4f0c-caa9-408fcaf70726"
      },
      "outputs": [],
      "source": [
        "# RIGHT OUTER\n",
        "movies_data_outer_r = movies_data.join(ratings_data, [\"movieId\"], \"right\")\n",
        "print(f'{movies_data_outer_r.count()} filas con una unión externa (der)')\n",
        "movies_data_outer_r.show()"
      ]
    },
    {
      "attachments": {},
      "cell_type": "markdown",
      "metadata": {
        "id": "X8SLOvMriyXb"
      },
      "source": [
        "### Combinación externa completa (Full Join)\n",
        "\n",
        "En algunos sistemas, una combinación externa completa incluye todas las filas de ambas tablas, con filas combinadas cuando se correspondan."
      ]
    },
    {
      "cell_type": "code",
      "execution_count": null,
      "metadata": {
        "id": "fiQ_0AXke9BE"
      },
      "outputs": [],
      "source": [
        "movies_data_full = movies_data.join(ratings_data, [\"movieId\"], \"full\")\n",
        "print(f'{movies_data_full.count()} filas con una unión completa')\n",
        "movies_data_full.show()"
      ]
    },
    {
      "attachments": {},
      "cell_type": "markdown",
      "metadata": {
        "id": "KAt79vNRlqTt"
      },
      "source": [
        "## Extracción de información"
      ]
    },
    {
      "attachments": {},
      "cell_type": "markdown",
      "metadata": {
        "id": "v7sQTIXDwzFP"
      },
      "source": [
        "### Valoraciones promedio por película"
      ]
    },
    {
      "cell_type": "code",
      "execution_count": null,
      "metadata": {
        "colab": {
          "base_uri": "https://localhost:8080/"
        },
        "id": "TkI2MQEzluN1",
        "outputId": "58a93a22-cc17-454e-c3d4-bb622e4e65f6"
      },
      "outputs": [],
      "source": [
        "rating_by_movie =(ratings_data\n",
        "                  .groupby(\"movieId\")\n",
        "                  .agg(fct.count(\"rating\").alias(\"# reviews\"), fct.avg(\"rating\").alias(\"avg rating\"))\n",
        "                  .join(movies_data, [\"movieID\"], \"inner\")\n",
        "                  .select([\"title\", \"avg rating\", \"# reviews\"]))\n",
        "rating_by_movie.orderBy([\"# reviews\"], ascending=False).show()"
      ]
    },
    {
      "cell_type": "code",
      "execution_count": null,
      "metadata": {
        "colab": {
          "base_uri": "https://localhost:8080/"
        },
        "id": "bDNTGaqVQ_6M",
        "outputId": "afb04c71-ea9e-4626-d9ee-1917ccb11275"
      },
      "outputs": [],
      "source": [
        "(rating_by_movie\n",
        " .orderBy([\"avg rating\"], ascending=False)\n",
        " .show())"
      ]
    },
    {
      "cell_type": "code",
      "execution_count": null,
      "metadata": {
        "colab": {
          "base_uri": "https://localhost:8080/"
        },
        "id": "xeP7K14UtaAR",
        "outputId": "efaa0669-cb79-4ef9-9df8-dfb3443bc19c"
      },
      "outputs": [],
      "source": [
        "(rating_by_movie\n",
        " .where(rating_by_movie[\"# reviews\"]>10)\n",
        " .orderBy([\"avg rating\"])\n",
        " .show())"
      ]
    },
    {
      "attachments": {},
      "cell_type": "markdown",
      "metadata": {
        "id": "v5FISZ9dw18h"
      },
      "source": [
        "### Valoraciones promedio por género"
      ]
    },
    {
      "cell_type": "code",
      "execution_count": null,
      "metadata": {
        "colab": {
          "base_uri": "https://localhost:8080/"
        },
        "id": "PhySJUgVucCH",
        "outputId": "13da398e-7337-49ea-a941-7d6a09f9ce0d"
      },
      "outputs": [],
      "source": [
        "(rating_by_movie\n",
        " .join(movies_data_genre, [\"title\"], \"inner\")\n",
        " .groupby(\"genre\")\n",
        " .agg(fct.count(\"genre\").alias(\"# movies\"), fct.avg(\"avg rating\").alias(\"avg rating\"), fct.sum(\"# reviews\").alias(\"# reviews\"))\n",
        " .orderBy([\"avg rating\"], ascending=False)\n",
        " .show())"
      ]
    },
    {
      "attachments": {},
      "cell_type": "markdown",
      "metadata": {
        "id": "jxQ6rYo1x_FT"
      },
      "source": [
        "### Valoraciones promedio por usuario\n",
        "<!--\n",
        "rating_by_user =(ratings_data\n",
        "                  .groupby(\"userId\")\n",
        "                  .agg(fct.count(\"rating\").alias(\"# reviews\"), fct.avg(\"rating\").alias(\"avg rating\"))\n",
        "                  .select([\"userId\", \"avg rating\", \"# reviews\"]))\n",
        "rating_by_user.orderBy([\"# reviews\"], ascending=False).show()\n",
        "-->"
      ]
    },
    {
      "cell_type": "code",
      "execution_count": null,
      "metadata": {
        "colab": {
          "base_uri": "https://localhost:8080/"
        },
        "id": "7-kk33dSvmYA",
        "outputId": "54283d89-23b2-417b-fe71-9b217de33493"
      },
      "outputs": [],
      "source": [
        "rating_by_user =(ratings_data\n",
        "                  .groupby(<SU CODIGO>)\n",
        "                  .agg(fct.count(<SU CODIGO>).alias(\"# reviews\"), fct.avg(<SU CODIGO>).alias(\"avg rating\"))\n",
        "                  .select([\"userId\", \"avg rating\", \"# reviews\"]))\n",
        "rating_by_user.orderBy([\"# reviews\"], ascending=False).show()"
      ]
    },
    {
      "cell_type": "code",
      "execution_count": null,
      "metadata": {
        "colab": {
          "base_uri": "https://localhost:8080/"
        },
        "id": "onOQmmUQyEXy",
        "outputId": "1183865e-6bac-4111-9207-489f7aa33c71"
      },
      "outputs": [],
      "source": [
        "(rating_by_user\n",
        " .where(rating_by_user[\"# reviews\"]>10)\n",
        " .orderBy([\"avg rating\"], ascending=False)\n",
        " .show())"
      ]
    },
    {
      "cell_type": "code",
      "execution_count": null,
      "metadata": {
        "colab": {
          "base_uri": "https://localhost:8080/"
        },
        "id": "C5LVKE-YUxOe",
        "outputId": "894236de-c81d-45d5-dafe-c7d5a5776170"
      },
      "outputs": [],
      "source": [
        "(rating_by_user\n",
        " .where(rating_by_user[\"# reviews\"]>10)\n",
        " .orderBy([\"avg rating\"])\n",
        " .show())"
      ]
    },
    {
      "attachments": {},
      "cell_type": "markdown",
      "metadata": {
        "id": "OXCUTobQW6zO"
      },
      "source": [
        "### Valoraciones promedio por año\n",
        "<!--\n",
        "reg_exp = \"(\\d{4})\"\n",
        "movies_data_year = (movies_data\n",
        "                    .withColumn(\"movie year\", fct.regexp_extract(\"title\", reg_exp, 0)) # Generar una nueva columna con el año a partir del título\n",
        "                    .select(\"movieId\", \"title\", \"movie year\"))\n",
        "movies_data_year = (movies_data_year\n",
        "                    .where(movies_data_year[\"movie year\"]>1950)\n",
        "                    .where(movies_data_year[\"movie year\"]<2023))\n",
        "movies_data_year.show(5)\n",
        "-->"
      ]
    },
    {
      "cell_type": "code",
      "execution_count": null,
      "metadata": {
        "colab": {
          "base_uri": "https://localhost:8080/"
        },
        "id": "Qz4Lvd_ZU2DH",
        "outputId": "9524a95d-a5b8-482b-b038-3f0d0b7b4b6e"
      },
      "outputs": [],
      "source": [
        "reg_exp = \"(\\d{4})\" # Expresión regular para las fechas (4 dígitos)\n",
        "movies_data_year = (movies_data\n",
        "                    .withColumn(<SU CODIGO>, fct.regexp_extract(<SU CODIGO>, <SU CODIGO>, 0)) # Generar una nueva columna con el año a partir del título\n",
        "                    .select(\"movieId\", \"title\", \"movie year\"))\n",
        "movies_data_year = (movies_data_year\n",
        "                    .where(<SU CODIGO>) # Dados errores en los datos, seleccionar solo las\n",
        "                    .where(<SU CODIGO>))# películas entre 1950 y 2023\n",
        "movies_data_year.show(5)"
      ]
    },
    {
      "cell_type": "code",
      "execution_count": null,
      "metadata": {
        "colab": {
          "base_uri": "https://localhost:8080/"
        },
        "id": "zJFBHFYCW9Fy",
        "outputId": "d53fc49d-ef16-4750-d984-c8b78d61cf92"
      },
      "outputs": [],
      "source": [
        "rating_by_year = (rating_by_movie\n",
        "                  .join(movies_data_year, [\"title\"], \"inner\")\n",
        "                  .groupby(\"movie year\")\n",
        "                  .agg(fct.count(\"movie year\").alias(\"# movies\"), fct.avg(\"avg rating\").alias(\"avg rating\"), fct.sum(\"# reviews\").alias(\"# reviews\")))\n",
        "rating_by_year.show(5)"
      ]
    },
    {
      "cell_type": "code",
      "execution_count": null,
      "metadata": {
        "colab": {
          "base_uri": "https://localhost:8080/"
        },
        "id": "3Ygv0Bj0amOr",
        "outputId": "6efcc179-3319-42fd-8ee1-2d117e583f64"
      },
      "outputs": [],
      "source": [
        "(rating_by_year\n",
        " .where(rating_by_year[\"# reviews\"]>100)\n",
        " .orderBy([\"avg rating\"], ascending = False)\n",
        " .show(5))"
      ]
    },
    {
      "cell_type": "code",
      "execution_count": null,
      "metadata": {
        "colab": {
          "base_uri": "https://localhost:8080/"
        },
        "id": "Uj2EIVYgc6Qz",
        "outputId": "50f147a5-cb5f-4f7c-dab4-9ff58edbbd78"
      },
      "outputs": [],
      "source": [
        "(rating_by_year\n",
        " .orderBy([\"# movies\"], ascending = False)\n",
        " .show(5))"
      ]
    },
    {
      "attachments": {},
      "cell_type": "markdown",
      "metadata": {
        "id": "fV-31Z-Id3oQ"
      },
      "source": [
        "### Mejor película por año"
      ]
    },
    {
      "cell_type": "code",
      "execution_count": null,
      "metadata": {
        "colab": {
          "base_uri": "https://localhost:8080/"
        },
        "id": "DDzB6XnOebLh",
        "outputId": "9bc967b7-a6da-4246-bf80-f9710a432c89"
      },
      "outputs": [],
      "source": [
        "best_movie_by_year = (rating_by_movie\n",
        "                      .join(movies_data_year, [\"title\"], \"inner\")\n",
        "                      .where(rating_by_movie[\"# reviews\"] > 10)\n",
        "                      .orderBy([\"avg rating\"], ascending=False)\n",
        "                      .groupby(\"movie year\")\n",
        "                      .agg(fct.first(\"title\").alias(\"title\"), fct.first(\"avg rating\").alias(\"avg rating\")))\n",
        "best_movie_by_year.orderBy([\"movie year\"], ascending=False).show()"
      ]
    },
    {
      "cell_type": "code",
      "execution_count": null,
      "metadata": {
        "colab": {
          "base_uri": "https://localhost:8080/"
        },
        "id": "MnVpnXgXltuT",
        "outputId": "a381b10a-446c-41ed-b11c-be6abd1e6549"
      },
      "outputs": [],
      "source": [
        "best_movie_by_year.orderBy([\"movie year\"]).show()"
      ]
    },
    {
      "attachments": {},
      "cell_type": "markdown",
      "metadata": {
        "id": "Aa62fHMenT7v"
      },
      "source": [
        "### Mejor película para cada usuario"
      ]
    },
    {
      "cell_type": "code",
      "execution_count": null,
      "metadata": {
        "colab": {
          "base_uri": "https://localhost:8080/"
        },
        "id": "LMvVtCA9md6d",
        "outputId": "d2742ff0-36d3-4d1b-a814-19384b8adaf6"
      },
      "outputs": [],
      "source": [
        "best_movie_by_user = (ratings_data\n",
        "                      .join(movies_data, [\"movieId\"], \"inner\")\n",
        "                      .orderBy([\"rating\"], ascending=False)\n",
        "                      .groupby(\"userId\")\n",
        "                      .agg(fct.first(\"title\").alias(\"title\"), fct.first(\"rating\").alias(\"rating\")))\n",
        "best_movie_by_user.show() # Con la precisión de que obtenemos solo un resultado por usuario cuando puede haber varias películas con valoración 5.0"
      ]
    },
    {
      "cell_type": "code",
      "execution_count": null,
      "metadata": {
        "colab": {
          "base_uri": "https://localhost:8080/"
        },
        "id": "ZYBR6WbDn3tu",
        "outputId": "990d7ae4-1366-4854-b00c-6b536ad6a80d"
      },
      "outputs": [],
      "source": [
        "(ratings_data\n",
        " .join(movies_data_year, [\"movieId\"], \"inner\")\n",
        " .where(\"userId = 1 AND rating = 5.0\")\n",
        " .select([\"title\", \"movie year\"])\n",
        " .show())"
      ]
    },
    {
      "attachments": {},
      "cell_type": "markdown",
      "metadata": {
        "id": "WUniB6BjqaYD"
      },
      "source": [
        "## Ejercicios\n",
        "### ¿Cuál es la peor película por cada año?"
      ]
    },
    {
      "cell_type": "code",
      "execution_count": null,
      "metadata": {
        "colab": {
          "base_uri": "https://localhost:8080/"
        },
        "id": "yAEYqwXsoQkU",
        "outputId": "9668eec3-bbc5-44f0-b224-947c7e56f6bd"
      },
      "outputs": [],
      "source": []
    },
    {
      "attachments": {},
      "cell_type": "markdown",
      "metadata": {
        "id": "s29ZWfhbqg4z"
      },
      "source": [
        "### ¿Cuál es el género favorito de cada usuario?\n",
        "Género más frecuente de las películas que el usuario valoró con 5.0."
      ]
    },
    {
      "attachments": {},
      "cell_type": "markdown",
      "metadata": {
        "id": "_ZZ4b-vzvWTY"
      },
      "source": [
        "<details>\n",
        "<summary>\n",
        "  <font size=3 color=darkgreen><b>Pistas</b></font>\n",
        "</summary>\n",
        "<p>\n",
        "<ul>\n",
        "    <li>Los géneros de las películas están en la tabla <i>movies_data_genre</i></li>\n",
        "    <li>Para obtener un conteo de cada género por cada usuario se pueden agrupar las dos variables <i>.groupby([\"userId\", \"genre\"])</i></li>\n",
        "    <li>Después se puede usar la secuencia de pasos en los ejemplos anteriores con <i>.fct.first(\"genre\")</i></li>\n",
        "</ul>\n",
        "</p>\n",
        "</details>"
      ]
    },
    {
      "cell_type": "code",
      "execution_count": null,
      "metadata": {
        "colab": {
          "base_uri": "https://localhost:8080/"
        },
        "id": "ogZkN1rPqygB",
        "outputId": "930bc20d-1e68-43ca-ad7f-067482ed992a"
      },
      "outputs": [],
      "source": []
    },
    {
      "attachments": {},
      "cell_type": "markdown",
      "metadata": {
        "id": "Z8Oki-Xoq25N"
      },
      "source": [
        "### ¿Cuál es el género menos preferido por el usuario?\n",
        "Género más frecuente de las 5 películas a las que el usuario les dio una valoración menor a 2."
      ]
    },
    {
      "cell_type": "code",
      "execution_count": null,
      "metadata": {
        "colab": {
          "base_uri": "https://localhost:8080/"
        },
        "id": "8fYdEsusq779",
        "outputId": "c2d7227e-df1e-4d80-df0c-fb3cb939162e"
      },
      "outputs": [],
      "source": []
    }
  ],
  "metadata": {
    "colab": {
      "provenance": []
    },
    "gpuClass": "standard",
    "kernelspec": {
      "display_name": "Python 3",
      "name": "python3"
    },
    "language_info": {
      "name": "python"
    },
    "orig_nbformat": 4
  },
  "nbformat": 4,
  "nbformat_minor": 0
}
