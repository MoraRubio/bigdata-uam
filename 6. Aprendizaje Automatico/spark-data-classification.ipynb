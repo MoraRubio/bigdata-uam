{
  "cells": [
    {
      "attachments": {},
      "cell_type": "markdown",
      "metadata": {
        "id": "EWqMtKzFmUIL"
      },
      "source": [
        "# Aprendizaje de Máquina con Big Data y Apache Spark\n",
        "## Clasificación\n",
        "![Spark Logo](http://spark-mooc.github.io/web-assets/images/ta_Spark-logo-small.png) + ![Python Logo](http://spark-mooc.github.io/web-assets/images/python-logo-master-v3-TM-flattened_small.png)\n",
        "\n",
        "Para el procesamiento de Big Data utilizando Ciencia de Datos/Analítica de Datos/Aprendizaje de Máquina, existe una metodología ampliamente utilizada en la industria conocida como CRISP-DM creada por IBM, el siguiente diagrama representa la secuencia de pasos correspondientes a esta metodología:\n",
        "\n",
        "![CRISP-DM](https://www.ibm.com/docs/es/SS3RA7_sub/modeler_crispdm_ddita/clementine/images/crisp_process.jpg)\n",
        "\n",
        "En este diagrama se identifican las siguientes etapas:\n",
        "\n",
        "1. Entendimiento del negocio (objetivos)\n",
        "2. Exploración de los datos\n",
        "3. Preparación de los datos\n",
        "4. Modelado\n",
        "5. Evaluación\n",
        "6. Despliegue\n",
        "\n",
        "El cual representa un proceso iterativo, que comienza con el entendimiento del negocio y termina, y vuelve a comenzar, con la evaluación de resultados."
      ]
    },
    {
      "attachments": {},
      "cell_type": "markdown",
      "metadata": {
        "id": "zurlfySUq_Xt"
      },
      "source": [
        "## Descripción del problema\n",
        "\n",
        "Con sus conocimientos en ciencia de datos, se le ha pedido que a partir de un [conjunto de datos](https://archive.ics.uci.edu/ml/datasets/iris) con medidas de los pétalos y sépalos de distintas clases de la flor iris, entrene un modelo para identificar automáticamente a que especie pertenece una flor de acuerdo a sus medidas."
      ]
    },
    {
      "attachments": {},
      "cell_type": "markdown",
      "metadata": {
        "id": "m0o6puVMmUIN"
      },
      "source": [
        "### Configuración del ambiente de Google Colaboratory"
      ]
    },
    {
      "cell_type": "code",
      "execution_count": null,
      "metadata": {
        "id": "WrlYRkysmUIO"
      },
      "outputs": [],
      "source": [
        "# Download Java\n",
        "!apt-get install openjdk-8-jdk-headless -qq > /dev/null\n",
        "# Next, we will install Apache Spark 3.0.1 with Hadoop 2.7 from here.\n",
        "!wget https://dlcdn.apache.org/spark/spark-3.3.2/spark-3.3.2-bin-hadoop3.tgz\n",
        "# Now, we just need to unzip that folder.\n",
        "!tar xf spark-3.3.2-bin-hadoop3.tgz\n",
        "\n",
        "# Setting JVM and Spark path variables\n",
        "import os \n",
        "os.environ[\"JAVA_HOME\"] = \"/usr/lib/jvm/java-8-openjdk-amd64\"\n",
        "os.environ[\"SPARK_HOME\"] = \"/content/spark-3.3.2-bin-hadoop3\"\n",
        "\n",
        "# Installing required packages\n",
        "!pip install pyspark==3.3.2\n",
        "!pip install findspark"
      ]
    },
    {
      "cell_type": "code",
      "execution_count": null,
      "metadata": {
        "id": "AGAEWB7tmUIP"
      },
      "outputs": [],
      "source": [
        "import datetime as dt\n",
        "import findspark\n",
        "import numpy as np\n",
        "import matplotlib.pyplot as plt\n",
        "import pandas as pd\n",
        "import pyspark.ml as ml\n",
        "from pyspark.sql import functions as fct\n",
        "from pyspark.sql import SparkSession\n",
        "from pyspark.sql.types import *\n",
        "\n",
        "findspark.init()"
      ]
    },
    {
      "cell_type": "code",
      "execution_count": null,
      "metadata": {
        "id": "nionCeZNnEPP"
      },
      "outputs": [],
      "source": [
        "from sklearn.datasets import load_iris\n",
        "iris = load_iris()\n",
        "iris_data = iris[\"data\"]\n",
        "iris_target = np.array([iris[\"target_names\"][int(idx)] for idx in iris[\"target\"]])"
      ]
    },
    {
      "attachments": {},
      "cell_type": "markdown",
      "metadata": {
        "id": "pt9aC2VlmUIP"
      },
      "source": [
        "### Crear Sesión de Spark e importar los datos"
      ]
    },
    {
      "cell_type": "code",
      "execution_count": null,
      "metadata": {
        "id": "8Qy3ZQZqo_BW"
      },
      "outputs": [],
      "source": [
        "ss = (SparkSession\n",
        "      .builder\n",
        "      .appName(\"data_exploration_preparation\")\n",
        "      .getOrCreate())"
      ]
    },
    {
      "cell_type": "code",
      "execution_count": null,
      "metadata": {
        "id": "lKr-dgygy54x"
      },
      "outputs": [],
      "source": [
        "lst = iris_data.tolist()\n",
        "lst[:][4]=iris_target.tolist()"
      ]
    },
    {
      "cell_type": "code",
      "execution_count": null,
      "metadata": {
        "id": "_TooSpsLmUIP"
      },
      "outputs": [],
      "source": [
        "schema = StructType([StructField(iris[\"feature_names\"][0], DoubleType(), True),\n",
        "                     StructField(iris[\"feature_names\"][1], DoubleType(), True),\n",
        "                     StructField(iris[\"feature_names\"][2], DoubleType(), True),\n",
        "                     StructField(iris[\"feature_names\"][3], DoubleType(), True),\n",
        "                     StructField(\"class\", StringType(), True)])\n",
        "iris_data_ss = ss.createDataFrame(data = [x+[y] for x,y in zip(iris_data.tolist(),iris_target.tolist())], schema = schema)"
      ]
    },
    {
      "attachments": {},
      "cell_type": "markdown",
      "metadata": {
        "id": "mdksZZSyvUCM"
      },
      "source": [
        "### División en el conjunto de entrenamiento y conjunto de evaluación"
      ]
    },
    {
      "cell_type": "code",
      "execution_count": null,
      "metadata": {
        "id": "OpfOIxB3vZrM"
      },
      "outputs": [],
      "source": [
        "train_size = 0.7 # Tamaño del conjunto de entrenamiento: 70%\n",
        "test_size = 0.3 # Tamaño del conjunto de evaluación: 30%\n",
        "iris_data_train, iris_data_test = iris_data_ss.randomSplit([train_size, test_size], seed=42)\n",
        "iris_data_pd = iris_data_train.toPandas() # Convertirlo a un DataFrame de pandas para generar visualizaciones"
      ]
    },
    {
      "attachments": {},
      "cell_type": "markdown",
      "metadata": {
        "id": "5JYQqS01mUIQ"
      },
      "source": [
        "### Exploración de los datos"
      ]
    },
    {
      "cell_type": "code",
      "execution_count": null,
      "metadata": {
        "id": "X_UckRKJmUIR"
      },
      "outputs": [],
      "source": [
        "iris_data_train.printSchema() # Esquema relacional del conjunto de datos"
      ]
    },
    {
      "cell_type": "code",
      "execution_count": null,
      "metadata": {
        "id": "te5VdYHBs5Sb"
      },
      "outputs": [],
      "source": [
        "iris_data_train.show(10) # Primeros 10 registros del conjunto de datos"
      ]
    },
    {
      "cell_type": "code",
      "execution_count": null,
      "metadata": {
        "id": "x-3u1MSnpE4I"
      },
      "outputs": [],
      "source": [
        "(iris_data_train\n",
        " .describe() # Características estadísticas básicas\n",
        " .show())"
      ]
    },
    {
      "cell_type": "code",
      "execution_count": null,
      "metadata": {
        "id": "-n14qJThuxi4"
      },
      "outputs": [],
      "source": [
        "iris_data_pd.hist(bins=50, figsize=(12, 8)) # Calcular y graficar el histograma de cada característica\n",
        "plt.show()"
      ]
    },
    {
      "attachments": {},
      "cell_type": "markdown",
      "metadata": {
        "id": "arp9NJZ-Qwzo"
      },
      "source": [
        "#### Correlaciones\n",
        "La correlación es una medida estadística que expresa hasta qué punto dos variables están relacionadas linealmente (esto es, cambian conjuntamente a una tasa constante). Es una herramienta común para describir relaciones simples sin hacer afirmaciones sobre causa y efecto [[ref](https://www.jmp.com/es_co/statistics-knowledge-portal/what-is-correlation.html)]."
      ]
    },
    {
      "cell_type": "code",
      "execution_count": null,
      "metadata": {
        "id": "703G4Rqd1PCe"
      },
      "outputs": [],
      "source": [
        "pd.plotting.scatter_matrix(iris_data_pd[iris[\"feature_names\"]], figsize=(12, 8))\n",
        "plt.show()"
      ]
    },
    {
      "cell_type": "code",
      "execution_count": null,
      "metadata": {
        "id": "QyclOMpdSsqZ"
      },
      "outputs": [],
      "source": [
        "color_map = {cls: color for cls, color in zip(iris[\"target_names\"], [\"red\", \"green\", \"blue\"])}\n",
        "print(color_map)\n",
        "pd.plotting.scatter_matrix(iris_data_pd[iris[\"feature_names\"]], color=[color_map[cls] for cls in iris_data_pd[\"class\"].values], figsize=(12, 8))\n",
        "plt.show()"
      ]
    },
    {
      "attachments": {},
      "cell_type": "markdown",
      "metadata": {
        "id": "Rvu-otMndiZv"
      },
      "source": [
        "### Preparación de los datos"
      ]
    },
    {
      "cell_type": "code",
      "execution_count": null,
      "metadata": {
        "id": "mxTTDhNN7XPk"
      },
      "outputs": [],
      "source": [
        "stringIndexer = ml.feature.StringIndexer(inputCol=\"class\", outputCol=\"ordinal_class\", stringOrderType=\"frequencyDesc\")\n",
        "\n",
        "onehotencoder = ml.feature.OneHotEncoder(inputCol=\"ordinal_class\", outputCol=\"onehot_class\")\n",
        "\n",
        "columns_to_scale = iris[\"feature_names\"]\n",
        "\n",
        "assemblers = [ml.feature.VectorAssembler(inputCols=[col], outputCol=col + \"_vec\") for col in columns_to_scale]\n",
        "\n",
        "scalers = [ml.feature.MinMaxScaler(inputCol=col + \"_vec\", outputCol=\"scaled_\" + col) for col in columns_to_scale]\n",
        "\n",
        "feature_assembler = ml.feature.VectorAssembler(inputCols=[\"scaled_\" + col for col in columns_to_scale], outputCol=\"features\")\n",
        "\n",
        "sqlTrans = ml.feature.SQLTransformer(statement=\"SELECT features, ordinal_class AS label FROM __THIS__\")\n",
        "\n",
        "preprocess_pipeline = ml.Pipeline(stages=[stringIndexer, onehotencoder]+assemblers+scalers+[feature_assembler, sqlTrans])"
      ]
    },
    {
      "cell_type": "code",
      "execution_count": null,
      "metadata": {
        "id": "cOX_tRLFALTL"
      },
      "outputs": [],
      "source": [
        "pipeline_model = preprocess_pipeline.fit(iris_data_train)\n",
        "pipeline_model.transform(iris_data_train).show()"
      ]
    },
    {
      "attachments": {},
      "cell_type": "markdown",
      "metadata": {
        "id": "MBUgARPJ4G5G"
      },
      "source": [
        "### Entrenamiento y evaluación de modelos\n",
        "\n",
        "#### Regresión logística"
      ]
    },
    {
      "cell_type": "code",
      "execution_count": null,
      "metadata": {
        "id": "_hX1z3NR2aXX"
      },
      "outputs": [],
      "source": [
        "Logistic_regression = ml.classification.LogisticRegression()\n",
        "model_pipeline = ml.Pipeline(stages=[preprocess_pipeline, Logistic_regression])\n",
        "\n",
        "model = model_pipeline.fit(iris_data_train)\n",
        "\n",
        "train_predictions = model.transform(iris_data_train)\n",
        "train_predictions.show()"
      ]
    },
    {
      "cell_type": "code",
      "execution_count": null,
      "metadata": {
        "id": "9ALF2UuK7f8D"
      },
      "outputs": [],
      "source": [
        "dir(model.stages[-1].summary)"
      ]
    },
    {
      "cell_type": "code",
      "execution_count": null,
      "metadata": {
        "id": "hXKfx2TI61Oc"
      },
      "outputs": [],
      "source": [
        "print(f\"Precisión: {model.stages[-1].summary.accuracy}\")\n",
        "print(f\"F-Score: {model.stages[-1].summary.fMeasureByLabel()}\")"
      ]
    },
    {
      "cell_type": "code",
      "execution_count": null,
      "metadata": {
        "id": "EfUkTmVm-r-z"
      },
      "outputs": [],
      "source": [
        "evaluator = ml.evaluation.MulticlassClassificationEvaluator(metricName = \"accuracy\")\n",
        "print(\"Accuracy on train data = %g\" % evaluator.evaluate(train_predictions))"
      ]
    },
    {
      "cell_type": "code",
      "execution_count": null,
      "metadata": {
        "id": "Jzdj1o8P-r-5"
      },
      "outputs": [],
      "source": [
        "predictions = model.transform(iris_data_test)\n",
        "predictions.show(5)\n",
        "print(\"Accuracy on test data = %g\" % evaluator.evaluate(predictions))"
      ]
    },
    {
      "attachments": {},
      "cell_type": "markdown",
      "metadata": {
        "id": "1ZdyMEZk7vCi"
      },
      "source": [
        "#### Árboles de decisión"
      ]
    },
    {
      "cell_type": "code",
      "execution_count": null,
      "metadata": {
        "id": "qnC9f4H03A1d"
      },
      "outputs": [],
      "source": [
        "decisionTree = ml.classification.DecisionTreeClassifier()\n",
        "model_pipeline = ml.Pipeline(stages=[preprocess_pipeline, decisionTree])\n",
        "\n",
        "model = model_pipeline.fit(iris_data_train)\n",
        "\n",
        "train_predictions = model.transform(iris_data_train)\n",
        "train_predictions.show()"
      ]
    },
    {
      "cell_type": "code",
      "execution_count": null,
      "metadata": {
        "id": "IDL_E6To7_Jj"
      },
      "outputs": [],
      "source": [
        "print(\"Accuracy on train data = %g\" % evaluator.evaluate(train_predictions))"
      ]
    },
    {
      "cell_type": "code",
      "execution_count": null,
      "metadata": {
        "id": "bRopmxuF7_ad"
      },
      "outputs": [],
      "source": [
        "predictions = model.transform(iris_data_test)\n",
        "predictions.show(5)\n",
        "print(\"Accuracy on test data = %g\" % evaluator.evaluate(predictions))"
      ]
    },
    {
      "attachments": {},
      "cell_type": "markdown",
      "metadata": {
        "id": "4F1awvdY_gk6"
      },
      "source": [
        "#### Perceptron multicapa o Red Neuronal"
      ]
    },
    {
      "cell_type": "code",
      "execution_count": null,
      "metadata": {
        "id": "_e2bEZey-ogJ"
      },
      "outputs": [],
      "source": [
        "layers = [4, 10, 10, 3]\n",
        "\n",
        "trainer = ml.classification.MultilayerPerceptronClassifier(maxIter=500, layers=layers, blockSize=128, seed=1234)\n",
        "model_pipeline = ml.Pipeline(stages=[preprocess_pipeline, trainer])\n",
        "\n",
        "model = model_pipeline.fit(iris_data_train)\n",
        "\n",
        "train_predictions = model.transform(iris_data_train)\n",
        "train_predictions.show()"
      ]
    },
    {
      "cell_type": "code",
      "execution_count": null,
      "metadata": {
        "id": "fO6OuyY1_Upd"
      },
      "outputs": [],
      "source": [
        "print(\"Accuracy on train data = %g\" % evaluator.evaluate(train_predictions))"
      ]
    },
    {
      "cell_type": "code",
      "execution_count": null,
      "metadata": {
        "id": "XTZfQjB2_Upi"
      },
      "outputs": [],
      "source": [
        "predictions = model.transform(iris_data_test)\n",
        "predictions.show(5)\n",
        "print(\"Accuracy on test data = %g\" % evaluator.evaluate(predictions))"
      ]
    }
  ],
  "metadata": {
    "colab": {
      "provenance": []
    },
    "gpuClass": "standard",
    "kernelspec": {
      "display_name": "Python 3",
      "name": "python3"
    },
    "language_info": {
      "name": "python"
    },
    "orig_nbformat": 4
  },
  "nbformat": 4,
  "nbformat_minor": 0
}
