{
 "cells": [
  {
   "attachments": {},
   "cell_type": "markdown",
   "metadata": {},
   "source": [
    "## Taller - MapReduce\n",
    "\n",
    "Si está trabajando en Google Colaboratory, puede instalar la librería con `!pip install mrjob`."
   ]
  },
  {
   "attachments": {},
   "cell_type": "markdown",
   "metadata": {},
   "source": [
    "### Ejercicio 1: Conteo de caracteres"
   ]
  },
  {
   "attachments": {},
   "cell_type": "markdown",
   "metadata": {},
   "source": [
    "Completa la clase `CharCount` implementando un programa map-reduce que, dado un texto de entrada, cuente:\n",
    "\n",
    "- El número de veces que aparece cada caracter (la clase `Counter` de Python puede ser de utilidad).\n",
    "    - Los espacios no deben aparecer en el conteo.\n",
    "    - 'A' y 'a' se deben tratar como un solo caracter. \n",
    "- El número total de vocales.\n",
    "- El número total de consonantes.\n",
    "\n",
    "y emita como resultado tres tuplas como en el ejemplo siguiente.\n",
    "\n",
    "_Ejemplo de ejecución_\n",
    "\n",
    "    Ancient influences have helped spawn variant interpretations \n",
    "    of the nature of history which have evolved over the centuries \n",
    "    and continue to change today. The modern study of history is \n",
    "    wide-ranging, and includes the study of specific regions and \n",
    "    the study of certain topical or thematical elements of \n",
    "    historical investigation. Often history is taught as part of \n",
    "    primary and secondary education, and the academic study of \n",
    "    history is a major discipline in University studies\n",
    "    \n",
    "_Resultado_\n",
    "\n",
    "    \"a\"\t32\n",
    "    \"c\"\t18\n",
    "    \"d\"\t20\n",
    "    ...\n",
    "    \"y\"\t12\n",
    "    \"vowels\" 153\n",
    "    \"consonants\" 247\n",
    "\n",
    "<font style=\"color: red\">La función map puede devolver varios pares *(llave,valor)* utilizando varias veces la instrucción `yield`"
   ]
  },
  {
   "cell_type": "code",
   "execution_count": null,
   "metadata": {},
   "outputs": [],
   "source": [
    "%%writefile CharCount.py\n",
    "from mrjob.job import MRJob\n",
    "from collections import Counter\n",
    "\n",
    "class CharCount(MRJob):\n",
    "\n",
    "    def mapper(self, _, line):\n",
    "        # TU CODIGO AQUI\n",
    "        yield \"KEY\", \"VALUE\"\n",
    "\n",
    "    def reducer(self, key, values):\n",
    "        # TU CODIGO AQUI\n",
    "        yield \"KEY\", \"VALUE\"\n",
    "        \n",
    "if __name__ == '__main__':\n",
    "    CharCount.run()"
   ]
  },
  {
   "cell_type": "code",
   "execution_count": null,
   "metadata": {},
   "outputs": [],
   "source": [
    "%%script python CharCount.py --quiet\n",
    "Ancient influences have helped spawn variant interpretations \n",
    "of the nature of history which have evolved over the centuries \n",
    "and continue to change today. The modern study of history is \n",
    "wide-ranging, and includes the study of specific regions and \n",
    "the study of certain topical or thematical elements of \n",
    "historical investigation. Often history is taught as part of \n",
    "primary and secondary education, and the academic study of \n",
    "history is a major discipline in University studies"
   ]
  },
  {
   "attachments": {},
   "cell_type": "markdown",
   "metadata": {},
   "source": [
    "### Ejercicio 2: Suma de Matrices\n",
    "\n",
    "Representamos dos matrices **a** y **b** de 2x2 de la siguiente forma:\n",
    "\n",
    "    [\"a\", 0, 0, 32]\n",
    "    [\"a\", 0, 1, 69]\n",
    "    [\"a\", 1, 0, 18]\n",
    "    [\"a\", 1, 1, 28]\n",
    "    [\"b\", 0, 0, 18]\n",
    "    [\"b\", 0, 1, 69]\n",
    "    [\"b\", 1, 0, 28]\n",
    "    [\"b\", 1, 1, 32]\n",
    "\n",
    "es decir\n",
    "\n",
    "    a = [32 69]     b = [18 69]    a + b = [50 138]\n",
    "        [18 28]         [28 32]            [46  60]\n",
    "        \n",
    "        \n",
    "tienes que implementar un programa map-reduce que acepte como entrada las dos matrices y realice la suma"
   ]
  },
  {
   "cell_type": "code",
   "execution_count": null,
   "metadata": {},
   "outputs": [],
   "source": [
    "%%writefile MatrixSum.py\n",
    "from mrjob.job import MRJob\n",
    "import json\n",
    "\n",
    "class MatrixSum(MRJob):\n",
    "\n",
    "    def mapper(self, _, line):\n",
    "        _, x, y, val = json.loads(line)\n",
    "        # TU CODIGO AQUI\n",
    "        yield \"KEY\", \"VALUE\"\n",
    "\n",
    "    def reducer(self, key, values):\n",
    "        # TU CODIGO AQUI\n",
    "        yield \"KEY\", \"VALUE\"\n",
    "        \n",
    "if __name__ == '__main__':\n",
    "    MatrixSum.run()"
   ]
  },
  {
   "cell_type": "code",
   "execution_count": null,
   "metadata": {},
   "outputs": [],
   "source": [
    "%%script python MatrixSum.py -q \n",
    "[\"a\", 0, 0, 32]\n",
    "[\"a\", 0, 1, 69]\n",
    "[\"a\", 1, 0, 18]\n",
    "[\"a\", 1, 1, 28]\n",
    "[\"b\", 0, 0, 18]\n",
    "[\"b\", 0, 1, 69]\n",
    "[\"b\", 1, 0, 28]\n",
    "[\"b\", 1, 1, 32]"
   ]
  },
  {
   "attachments": {},
   "cell_type": "markdown",
   "metadata": {},
   "source": [
    "### Ejercicio 3: Matriz dispersa\n",
    "\n",
    "Representamos dos matrices dispersas **a** y **b** de 2x2 de la siguiente forma:\n",
    "\n",
    "    [\"a\", 0, 0, 63]\n",
    "    [\"a\", 1, 1, 32]\n",
    "    [\"b\", 0, 0, 69]\n",
    "    [\"b\", 0, 1, 18]\n",
    "    [\"b\", 1, 1, 28]\n",
    "\n",
    "es decir\n",
    "\n",
    "    a = [63  0]     b = [69 18]    a x b = [4347 1134]\n",
    "        [ 0 32]         [ 0 28]            [   0  896]\n",
    "        \n",
    "        \n",
    "tienes que implementar un programa map-reduce que acepte como entrada las matrices en el formato disperso y devuelva la multiplicación de ambas matrices en formato también disperso.\n",
    "\n",
    "_Ejemplo de ejecución_ (entrada es en formato **json**)\n",
    "\n",
    "    [\"a\", 0, 0, 63]\n",
    "    [\"a\", 1, 1, 32]\n",
    "    [\"b\", 0, 0, 69]\n",
    "    [\"b\", 0, 1, 18]\n",
    "    [\"b\", 1, 1, 28]\n",
    "\n",
    "_Resultado_\n",
    "\n",
    "    [0, 0]\t4347\n",
    "    [0, 1]\t1134\n",
    "    [1, 1]\t896\n",
    "\n",
    "**Ayuda: llaves en la función map, entradas reduce**\n",
    "\n",
    "map:\n",
    "Usando llaves de tres posiciones, las primeras dos indican la posición en la matriz final y la tercera posición está asociada a la posición en la suma.\n",
    "\n",
    "La posición [0,0] en la matriz final se calcula con a[0,0]*b[0,0] + a[0,1]*b[1,0]. Donde _a[0,0]*b[0,0]_ lo podríamos ver como la primera posición de la suma y _a[0,1]*b[1,0]_ como la segunda.\n",
    "    \n",
    "    entrada reducer\n",
    "    key  values \n",
    "    000, [63, 69]\n",
    "    010, [63, 18]\n",
    "    011, [28]\n",
    "    100, [69]\n",
    "    101, [32]\n",
    "    110, [18]\n",
    "    111, [32, 28]    \n",
    "Una alternativa es utilizar dos tareas reduce, una en la que se realicen las multiplicaciones y una posterior en la que se sumen los dos valores por cada celda. Al tratarse de matrices dispersas, se debe tener en cuenta que si faltan posiciones en la matriz, se asume que el valor en esa posición es cero (0). <font style=\"color: red\"> Lo último debe tenerse en cuenta a la hora de multiplicar"
   ]
  },
  {
   "cell_type": "code",
   "execution_count": null,
   "metadata": {
    "collapsed": true
   },
   "outputs": [],
   "source": [
    "%%writefile Matmult.py\n",
    "from mrjob.job import MRJob\n",
    "import json\n",
    "\n",
    "N=2 # dimension de las matrices cuadradas a multiplicar\n",
    "\n",
    "class Matmult(MRJob):\n",
    "\n",
    "    def mapper(self, _, line):\n",
    "        id, y, x, val = json.loads(line)\n",
    "        # TU CODIGO AQUI\n",
    "        yield \"KEY\", \"VALUE\"\n",
    "        \n",
    "    def reducer(self, key, values):\n",
    "        # TU CODIGO AQUI\n",
    "        yield \"KEY\", \"VALUE\"\n",
    "        \n",
    "if __name__ == '__main__':\n",
    "    Matmult.run()"
   ]
  },
  {
   "cell_type": "code",
   "execution_count": null,
   "metadata": {
    "collapsed": true
   },
   "outputs": [],
   "source": [
    "%%script python Matmult.py -q\n",
    "[\"a\", 0, 0, 63]\n",
    "[\"a\", 1, 1, 32]\n",
    "[\"b\", 0, 0, 69]\n",
    "[\"b\", 0, 1, 18]\n",
    "[\"b\", 1, 1, 28]"
   ]
  },
  {
   "attachments": {},
   "cell_type": "markdown",
   "metadata": {},
   "source": [
    "### Ejercicio 4: Extracción de información de archivos climáticos\n",
    "\n",
    "Considere los archivos de datos climáticos de [NDCC](https://www1.ncdc.noaa.gov/pub/data/igra/) provistos ([Data/climate-data.zip](Data/climate-data.zip)).\n",
    "\n",
    "Implementar un algoritmo MapReduce que determine los registros *​válidos ​y ​confiables* ​que indiquen que la temperatura del aire superó los 0°C y exprese su número total en valor absoluto y su porcentaje sobre el total de registros en el archivo provisto.\n",
    "\n",
    "Adicionalmente muestre la temperatura promedio.\n",
    "\n",
    "Consulte el documento **igra2-data-format.txt** el cual contiene la información de cómo están organizados los datos y cuáles son válidos. De particular interés para nuestra tarea son las columnas _TEMP_ y _TFLAG_.\n",
    "\n",
    "El resultado es de la forma:\n",
    "\n",
    "    \"temperatura promedio\"\t-29.309409190371984\n",
    "\n",
    "    \"registros temperatura >0\"\t149\n",
    "    \n",
    "    \"registros temperatura >0 [%]\"\t32.60393873085339"
   ]
  },
  {
   "cell_type": "code",
   "execution_count": null,
   "metadata": {},
   "outputs": [],
   "source": [
    "%%writefile Temp.py\n",
    "from mrjob.job import MRJob\n",
    "\n",
    "class Temp(MRJob):\n",
    "\n",
    "    def mapper(self, _, line):\n",
    "        # TU CODIGO AQUI\n",
    "        yield \"KEY\", \"VALUE\"\n",
    "        \n",
    "    def reducer(self, key, values):\n",
    "        # TU CODIGO AQUI\n",
    "        yield \"KEY\", \"VALUE\"\n",
    "        \n",
    "if __name__ == '__main__':\n",
    "    Temp.run()"
   ]
  },
  {
   "cell_type": "code",
   "execution_count": null,
   "metadata": {},
   "outputs": [],
   "source": [
    "%%script python Temp.py -q climate-data/*\n",
    "--"
   ]
  }
 ],
 "metadata": {
  "kernelspec": {
   "display_name": "dip",
   "language": "python",
   "name": "python3"
  },
  "language_info": {
   "codemirror_mode": {
    "name": "ipython",
    "version": 3
   },
   "file_extension": ".py",
   "mimetype": "text/x-python",
   "name": "python",
   "nbconvert_exporter": "python",
   "pygments_lexer": "ipython3",
   "version": "3.9.6"
  },
  "vscode": {
   "interpreter": {
    "hash": "2ee78bf6d3c55ab8d976b00cd533f0c8b1f102162595d6dc238528d9a3be5ad3"
   }
  }
 },
 "nbformat": 4,
 "nbformat_minor": 1
}
