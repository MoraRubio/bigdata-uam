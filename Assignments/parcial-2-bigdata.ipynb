{
  "cells": [
    {
      "attachments": {},
      "cell_type": "markdown",
      "metadata": {
        "id": "mHuPmnVMe-B1"
      },
      "source": [
        "# Universidad Autónoma de Manizales - Big Data y Visualización\n",
        "## 2do Parcial\n",
        "### Recuperación e integración de datos y Apache Spark\n",
        "\n",
        "**Instrucciones:** Las preguntas $1$ a $4$ son de respuesta abierta y tienen un valor de $+0.5$. Las preguntas $5$ a $7$ son ejercicios en los cuales se califica procedimiento y tienen un valor de $+1.0$"
      ]
    },
    {
      "attachments": {},
      "cell_type": "markdown",
      "metadata": {
        "id": "GKsOw0Ete-B4"
      },
      "source": [
        "1. Defina de forma simple y dentro del contexto del procesamiento de Big Data ¿ A qué se refiere el proceso de recuperación de información?"
      ]
    },
    {
      "attachments": {},
      "cell_type": "markdown",
      "metadata": {
        "id": "_3axglaRe-B5"
      },
      "source": [
        "1. **Respuesta:** \n",
        "\n",
        "\n",
        "\n",
        "---\n",
        "---\n"
      ]
    },
    {
      "attachments": {},
      "cell_type": "markdown",
      "metadata": {
        "id": "8PNuM5Dse-B5"
      },
      "source": [
        "2. ¿Qué es un *Query language* o lenguaje de consulta? ¿Qué parámetros básicos se necesitan para una consulta? "
      ]
    },
    {
      "attachments": {},
      "cell_type": "markdown",
      "metadata": {
        "id": "T1n8IGNQe-B5"
      },
      "source": [
        "2. **Respuesta:** \n",
        "\n",
        "\n",
        "\n",
        "---\n",
        "---"
      ]
    },
    {
      "attachments": {},
      "cell_type": "markdown",
      "metadata": {
        "id": "fw_lg-cme-B6"
      },
      "source": [
        "3. Describa y compare los modelos de datos estructurados y semi-estructurados. Mencione algunos ejemplos."
      ]
    },
    {
      "attachments": {},
      "cell_type": "markdown",
      "metadata": {
        "id": "5G1fc1qae-B6"
      },
      "source": [
        "3. **Respuesta:** \n",
        "\n",
        "\n",
        "\n",
        "---\n",
        "---"
      ]
    },
    {
      "attachments": {},
      "cell_type": "markdown",
      "metadata": {
        "id": "nWyVKIece-B6"
      },
      "source": [
        "4. ¿Cuál es la principal característica de Apache Spark? Relacionada a la velocidad de procesamiento para tareas en tiempo real."
      ]
    },
    {
      "attachments": {},
      "cell_type": "markdown",
      "metadata": {
        "id": "_H5AG_9je-B6"
      },
      "source": [
        "4. **Respuesta:** \n",
        "\n",
        "\n",
        "\n",
        "---\n",
        "---"
      ]
    },
    {
      "cell_type": "code",
      "execution_count": null,
      "metadata": {
        "id": "v8hto5hee-B7"
      },
      "outputs": [],
      "source": [
        "# Download Java\n",
        "!apt-get install openjdk-8-jdk-headless -qq > /dev/null\n",
        "# Next, we will install Apache Spark 3.0.1 with Hadoop 2.7 from here.\n",
        "!wget https://dlcdn.apache.org/spark/spark-3.3.2/spark-3.3.2-bin-hadoop3.tgz\n",
        "# Now, we just need to unzip that folder.\n",
        "!tar xf spark-3.3.2-bin-hadoop3.tgz\n",
        "import os\n",
        "os.environ[\"JAVA_HOME\"] = \"/usr/lib/jvm/java-8-openjdk-amd64\"\n",
        "os.environ[\"SPARK_HOME\"] = \"/content/spark-3.3.2-bin-hadoop3\"\n",
        "# Installing required packages\n",
        "!pip install pyspark==3.3.2\n",
        "!pip install findspark"
      ]
    },
    {
      "cell_type": "code",
      "execution_count": null,
      "metadata": {
        "id": "sNOgnpJTe-B8"
      },
      "outputs": [],
      "source": [
        "import findspark\n",
        "findspark.init()\n",
        "from pyspark import SparkContext\n",
        "from pyspark.sql import SparkSession\n",
        "from pyspark.sql import functions as fct\n",
        "sc = SparkContext()"
      ]
    },
    {
      "cell_type": "code",
      "execution_count": null,
      "metadata": {
        "id": "T4WrB8Mae-B8"
      },
      "outputs": [],
      "source": [
        "!wget -O shakespeare.txt https://www.gutenberg.org/ebooks/100.txt.utf-8"
      ]
    },
    {
      "cell_type": "code",
      "execution_count": null,
      "metadata": {
        "id": "5eGoVr_ve-B8"
      },
      "outputs": [],
      "source": [
        "import os.path\n",
        "import re\n",
        "\n",
        "def removePunctuation(text):\n",
        "    text = (text\n",
        "            .strip()\n",
        "            .lower())\n",
        "    return re.sub('[!\"#$%&\\'()*+,-./:;<=>?@[\\\\]^_`{|}~]', '', text)\n",
        "\n",
        "fileName = os.path.join(\"/content/shakespeare.txt\")\n",
        "WordCountRDD = (sc\n",
        "                .textFile(fileName, 8)\n",
        "                .map(removePunctuation)\n",
        "                .flatMap(lambda x: x.split())\n",
        "                .filter(lambda x: x!='')\n",
        "                .map(lambda x: (x,1))\n",
        "                .reduceByKey(lambda x,y:x+y))"
      ]
    },
    {
      "attachments": {},
      "cell_type": "markdown",
      "metadata": {
        "id": "wSV5BDUhe-B8"
      },
      "source": [
        "5. A partir de *WordCountRDD*:\n",
        "- Muestre las 5 palabras que menos se repiten.\n",
        "- Calcule el número promedio de veces que aparece una palabra."
      ]
    },
    {
      "cell_type": "code",
      "execution_count": null,
      "metadata": {
        "id": "0hwNlnIQe-B9"
      },
      "outputs": [],
      "source": [
        "# Inserte su código aquí\n"
      ]
    },
    {
      "attachments": {},
      "cell_type": "markdown",
      "metadata": {
        "id": "gwwr6i6Ee-B9"
      },
      "source": [
        "\n",
        "\n",
        "---\n",
        "\n",
        "\n",
        "\n",
        "---\n",
        "\n"
      ]
    },
    {
      "cell_type": "code",
      "execution_count": null,
      "metadata": {
        "id": "6h5wAKrEe-B9"
      },
      "outputs": [],
      "source": [
        "!wget -O sparkify-log.json https://github.com/MoraRubio/bigdata-uam/raw/main/data/sparkify-log.json"
      ]
    },
    {
      "cell_type": "code",
      "execution_count": null,
      "metadata": {
        "id": "TexhFwpte-B9"
      },
      "outputs": [],
      "source": [
        "ss = (SparkSession\n",
        "      .builder\n",
        "      .appName(\"parcial\")\n",
        "      .getOrCreate())\n",
        "path = os.path.join(\"/content/sparkify-log.json\")\n",
        "user_data = ss.read.json(path)"
      ]
    },
    {
      "attachments": {},
      "cell_type": "markdown",
      "metadata": {
        "id": "XKvCAjUOe-B-"
      },
      "source": [
        "6. A partir de *user_data*, responda: ¿cuántos usuarios de género femenino tiene la plataforma?"
      ]
    },
    {
      "cell_type": "code",
      "execution_count": null,
      "metadata": {
        "id": "kazqaAqNe-B-"
      },
      "outputs": [],
      "source": [
        "# Inserte su código aquí\n"
      ]
    },
    {
      "attachments": {},
      "cell_type": "markdown",
      "metadata": {
        "id": "QGJRe7JKe-B-"
      },
      "source": [
        "\n",
        "\n",
        "---\n",
        "\n",
        "\n",
        "\n",
        "---\n",
        "\n"
      ]
    },
    {
      "cell_type": "code",
      "execution_count": null,
      "metadata": {
        "id": "4jyfmGece-B-"
      },
      "outputs": [],
      "source": [
        "!wget -q https://files.grouplens.org/datasets/movielens/ml-latest-small.zip\n",
        "!unzip ml-latest-small.zip\n",
        "%cd ml-latest-small"
      ]
    },
    {
      "cell_type": "code",
      "execution_count": null,
      "metadata": {
        "id": "MBN8c5c_e-B-"
      },
      "outputs": [],
      "source": [
        "movies_data = ss.read.csv('/content/ml-latest-small/movies.csv', sep=',',\n",
        "                          header=True, quote='\"', \n",
        "                          schema='movieId INT, title STRING, genres STRING')\n",
        "ratings_data = ss.read.csv('/content/ml-latest-small/ratings.csv', sep=',',\n",
        "                           header=True, quote='\"',\n",
        "                           schema='userId INT, movieId INT, rating DOUBLE, timestamp INT')\n",
        "movies_data_genre = (movies_data\n",
        "                     .withColumn(\"genres_array\", fct.split(\"genres\", \"\\|\"))\n",
        "                     .withColumn(\"genre\", fct.explode(\"genres_array\"))\n",
        "                     .select(\"movieId\", \"title\", \"genre\"))\n",
        "movies_data_year = (movies_data\n",
        "                    .withColumn(\"movie year\", fct.regexp_extract(\"title\", \"(\\d{4})\", 0)) # Generar una nueva columna con el año a partir del título\n",
        "                    .select(\"movieId\", \"title\", \"movie year\"))\n",
        "movies_data_year = (movies_data_year\n",
        "                    .where(movies_data_year[\"movie year\"]>1950)\n",
        "                    .where(movies_data_year[\"movie year\"]<2023))"
      ]
    },
    {
      "attachments": {},
      "cell_type": "markdown",
      "metadata": {
        "id": "8KErWSMGe-B_"
      },
      "source": [
        "7. Utilizando *movies_data* y *ratings_data*, responda: ¿cuál es el género mejor valorado en cada año?"
      ]
    },
    {
      "attachments": {},
      "cell_type": "markdown",
      "metadata": {
        "id": "Qj-GCcWJe-B_"
      },
      "source": [
        "<details>\n",
        "<summary>\n",
        "  <font size=3 color=darkgreen><b>Recuerde el ejercicio realizado en clase</b></font>\n",
        "</summary>\n",
        "<p>\n",
        "<b>¿Cuál es el género favorito de cada usuario?</b> Género más frecuente de las películas que el usuario valoró con 5.0.\n",
        "\n",
        "```python\n",
        "best_genre_by_user = (ratings_data\n",
        "                      .join(movies_data_genre, [\"movieId\"], \"inner\")\n",
        "                      .where(\"rating = 5.0\")\n",
        "                      .groupby([\"userId\", \"genre\"])\n",
        "                      .count()\n",
        "                      .orderBy(\"count\", ascending=False)\n",
        "                      .groupby([\"userId\"])\n",
        "                      .agg(fct.first(\"genre\").alias(\"genre\"), \n",
        "                           fct.first(\"count\").alias(\"count\")))\n",
        "best_genre_by_user.show()\n",
        "```\n",
        "</p>\n",
        "</details>"
      ]
    },
    {
      "cell_type": "code",
      "execution_count": null,
      "metadata": {
        "id": "Fo5qZVPEe-B_"
      },
      "outputs": [],
      "source": [
        "#Inserte su código aquí\n"
      ]
    }
  ],
  "metadata": {
    "colab": {
      "provenance": []
    },
    "gpuClass": "standard",
    "kernelspec": {
      "display_name": "Python 3",
      "name": "python3"
    },
    "language_info": {
      "name": "python"
    },
    "orig_nbformat": 4
  },
  "nbformat": 4,
  "nbformat_minor": 0
}
