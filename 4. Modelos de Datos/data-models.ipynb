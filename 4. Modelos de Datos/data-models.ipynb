{
 "cells": [
  {
   "attachments": {},
   "cell_type": "markdown",
   "metadata": {},
   "source": [
    "# Explorando diferentes modelos de datos\n",
    "<small> Adaptado de [Coursera](https://www.coursera.org/specializations/bigdata\n",
    ")</small>"
   ]
  },
  {
   "cell_type": "code",
   "execution_count": null,
   "metadata": {},
   "outputs": [],
   "source": [
    "!wget https://github.com/words-sdsc/coursera/raw/master/big-data-2.zip\n",
    "!unzip big-data-2"
   ]
  },
  {
   "cell_type": "code",
   "execution_count": null,
   "metadata": {},
   "outputs": [],
   "source": [
    "%cd ./big-data-2/"
   ]
  },
  {
   "attachments": {},
   "cell_type": "markdown",
   "metadata": {},
   "source": [
    "## Modelo de datos relacionales"
   ]
  },
  {
   "cell_type": "code",
   "execution_count": null,
   "metadata": {},
   "outputs": [],
   "source": [
    "import pandas as pd\n",
    "df = pd.read_csv('csv/census.csv', sep=',')\n",
    "print(f'Tamaño de la tabla: {df.shape}')\n",
    "df.head()"
   ]
  },
  {
   "cell_type": "code",
   "execution_count": null,
   "metadata": {},
   "outputs": [],
   "source": [
    "print(f'Nombre de las columnas: {df.columns.values}')"
   ]
  },
  {
   "cell_type": "code",
   "execution_count": null,
   "metadata": {},
   "outputs": [],
   "source": [
    "# Población de la ciudad de Alabama\n",
    "df.loc[df['CTYNAME'] == 'Alabama']['CENSUS2010POP']"
   ]
  },
  {
   "cell_type": "code",
   "execution_count": null,
   "metadata": {},
   "outputs": [],
   "source": [
    "# Promedio de habitantes en el estado de Alabama\n",
    "df.loc[df['STNAME'] == 'Alabama']['CENSUS2010POP'].mean()"
   ]
  },
  {
   "cell_type": "code",
   "execution_count": null,
   "metadata": {},
   "outputs": [],
   "source": [
    "# Ciudades con una población menor a 10.000 habitantes\n",
    "df.loc[df['CENSUS2010POP'] < 10000]['CTYNAME']"
   ]
  },
  {
   "cell_type": "code",
   "execution_count": null,
   "metadata": {},
   "outputs": [],
   "source": [
    "# Ciudades del estado de California con una población mayor a 1'000.000 habitantes\n",
    "df.loc[(df['STNAME'] == 'California') & (df['CENSUS2010POP'] > 1000000)][['CTYNAME','CENSUS2010POP']]"
   ]
  },
  {
   "attachments": {},
   "cell_type": "markdown",
   "metadata": {},
   "source": [
    "## Modelo de datos semiestructurado - JSON"
   ]
  },
  {
   "cell_type": "code",
   "execution_count": null,
   "metadata": {},
   "outputs": [],
   "source": [
    "!head -n 1 json/twitter.json"
   ]
  },
  {
   "cell_type": "code",
   "execution_count": null,
   "metadata": {},
   "outputs": [],
   "source": [
    "%%script python json/json_schema.py json/twitter.json\n",
    "--"
   ]
  },
  {
   "cell_type": "code",
   "execution_count": null,
   "metadata": {},
   "outputs": [],
   "source": [
    "%%script python json/print_json.py json/twitter.json 99 entities/hashtags\n",
    "--"
   ]
  },
  {
   "cell_type": "code",
   "execution_count": null,
   "metadata": {},
   "outputs": [],
   "source": [
    "%%script python json/print_json.py json/twitter.json 50 user/location\n",
    "--"
   ]
  },
  {
   "attachments": {},
   "cell_type": "markdown",
   "metadata": {},
   "source": [
    "## Modelo de datos 'Array' - Imágenes"
   ]
  },
  {
   "cell_type": "code",
   "execution_count": null,
   "metadata": {},
   "outputs": [],
   "source": [
    "from PIL import Image\n",
    "im = Image.open('image/Australia.jpg')\n",
    "im.show()"
   ]
  },
  {
   "cell_type": "code",
   "execution_count": null,
   "metadata": {},
   "outputs": [],
   "source": [
    "%%script python image/dimensions.py image/Australia.jpg\n",
    "--"
   ]
  },
  {
   "cell_type": "code",
   "execution_count": null,
   "metadata": {},
   "outputs": [],
   "source": [
    "%%script python image/pixel.py image/Australia.jpg 100 100\n",
    "--"
   ]
  },
  {
   "attachments": {},
   "cell_type": "markdown",
   "metadata": {},
   "source": [
    "## Modelo de datos 'Array' - Texto"
   ]
  },
  {
   "attachments": {},
   "cell_type": "markdown",
   "metadata": {},
   "source": [
    "Vectorización de textos usando _Term Frequency - Inverse Document Frequency (TF-IDF)_. Es una técnica que crea representaciones numéricas para documentos de texto a partir de la frecuencia de los términos en cada documento y la cantidad de documentos totales. De esta forma se pueden realizar búsquedas o comparaciones entre textos en base a su contenido textual.\n",
    "\n",
    "**Ejemplo [freeCodeCamp](https://www.freecodecamp.org/news/how-to-process-textual-data-using-tf-idf-in-python-cd2bbc0a94a3/)**\n",
    "\n",
    "Oración 1 : The car is driven on the road.\n",
    "\n",
    "Oración 2: The truck is driven on the highway.\n",
    "\n",
    "<img src=\"tfidf.png\" width=700 height=300 />"
   ]
  },
  {
   "attachments": {},
   "cell_type": "markdown",
   "metadata": {},
   "source": [
    "## Datos de sensores"
   ]
  },
  {
   "cell_type": "code",
   "execution_count": null,
   "metadata": {},
   "outputs": [],
   "source": [
    "!head -n 10 sensor/wx-data.txt"
   ]
  },
  {
   "cell_type": "code",
   "execution_count": null,
   "metadata": {},
   "outputs": [],
   "source": [
    "!cat sensor/wxt-520-format.txt"
   ]
  },
  {
   "cell_type": "code",
   "execution_count": null,
   "metadata": {},
   "outputs": [],
   "source": [
    "import sys\n",
    "import re\n",
    "import matplotlib.pyplot as plt\n",
    "import matplotlib.dates as mdate\n",
    "from pytz import timezone\n",
    "\n",
    "x = []\n",
    "y = []\n",
    "\n",
    "file = open('sensor/wx-data.txt', 'r')\n",
    "for line in file:\n",
    "    parts = re.split(\"\\s+\", line)\n",
    "    \n",
    "    data = parts[1].split(\",\")\n",
    "\n",
    "    for field in data:\n",
    "        match = re.match('Ta' + '=(\\d+\\.\\d+).*', field)\n",
    "        if match:\n",
    "            timestamp = float(parts[0])\n",
    "            x.append(timestamp)\n",
    "            #time_parts = time.localtime(timestamp)\n",
    "            y.append(float(match.group(1)))\n",
    "    \n",
    "file.close()\n",
    "\n",
    "#fig, ax = plt.subplots()\n",
    "fig = plt.figure()\n",
    "ax = fig.add_subplot(111)\n",
    "\n",
    "secs = mdate.date2num(x)*24*60*60\n",
    "\n",
    "ax.plot_date(secs, y)\n",
    "\n",
    "plt.xlabel('time')\n",
    "plt.ylabel('Ta')\n",
    "\n",
    "date_formatter = mdate.DateFormatter('%H:%M.%S', tz=timezone('US/Pacific'))\n",
    "ax.xaxis.set_major_formatter(date_formatter)\n",
    "fig.autofmt_xdate()\n",
    "\n",
    "plt.show()"
   ]
  },
  {
   "attachments": {},
   "cell_type": "markdown",
   "metadata": {},
   "source": [
    "## Modelo de datos 'Grafos'"
   ]
  },
  {
   "cell_type": "code",
   "execution_count": null,
   "metadata": {},
   "outputs": [],
   "source": [
    "import pandas as pd\n",
    "df = pd.read_csv('graph/diseaseGraph.csv', sep=',')\n",
    "print(f'Tamaño de la tabla: {df.shape}')\n",
    "df.head()"
   ]
  },
  {
   "cell_type": "code",
   "execution_count": null,
   "metadata": {},
   "outputs": [],
   "source": [
    "nodes = set(df.Source.iloc[:15])\n",
    "edges = df.loc[(df.Source.isin(nodes)) | (df.Target.isin(nodes))].values"
   ]
  },
  {
   "cell_type": "code",
   "execution_count": null,
   "metadata": {},
   "outputs": [],
   "source": [
    "import networkx as nx\n",
    "G = nx.Graph()\n",
    "G.add_nodes_from(nodes)\n",
    "G.add_edges_from(edges)"
   ]
  },
  {
   "cell_type": "code",
   "execution_count": null,
   "metadata": {},
   "outputs": [],
   "source": [
    "import matplotlib.pyplot as plt\n",
    "nx.draw(G, with_labels=True)"
   ]
  }
 ],
 "metadata": {
  "kernelspec": {
   "display_name": "bigdata",
   "language": "python",
   "name": "python3"
  },
  "language_info": {
   "codemirror_mode": {
    "name": "ipython",
    "version": 3
   },
   "file_extension": ".py",
   "mimetype": "text/x-python",
   "name": "python",
   "nbconvert_exporter": "python",
   "pygments_lexer": "ipython3",
   "version": "3.11.2"
  },
  "orig_nbformat": 4,
  "vscode": {
   "interpreter": {
    "hash": "cb1c08858b1ba5829aaa3ef347d742b945887b262c4429f3e07f40f45731aece"
   }
  }
 },
 "nbformat": 4,
 "nbformat_minor": 2
}
