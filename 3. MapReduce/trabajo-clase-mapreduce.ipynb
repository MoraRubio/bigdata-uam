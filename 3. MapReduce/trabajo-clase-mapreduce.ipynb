{
 "cells": [
  {
   "attachments": {},
   "cell_type": "markdown",
   "metadata": {},
   "source": [
    "## Trabajo en clase - MapReduce"
   ]
  },
  {
   "cell_type": "markdown",
   "metadata": {},
   "source": [
    "### Ejercicio 1: Estadísticas de Texto"
   ]
  },
  {
   "attachments": {},
   "cell_type": "markdown",
   "metadata": {},
   "source": [
    "Completa la clase `TextStats` implementando un programa map-reduce que, dado un texto de entrada, cuente:\n",
    "\n",
    "- El número de caracteres\n",
    "- El número de líneas\n",
    "- El número de palabras\n",
    "\n",
    "y emita como resultado tres tuplas como en el ejemplo siguiente.\n",
    "\n",
    "\n",
    "_Ejemplo de ejecución_\n",
    "\n",
    "    Ancient influences have helped spawn variant interpretations \n",
    "    of the nature of history which have evolved over the centuries \n",
    "    and continue to change today. The modern study of history is \n",
    "    wide-ranging, and includes the study of specific regions and \n",
    "    the study of certain topical or thematical elements of \n",
    "    historical investigation. Often history is taught as part of \n",
    "    primary and secondary education, and the academic study of \n",
    "    history is a major discipline in University studies\n",
    "    \n",
    "_Resultado_\n",
    "\n",
    "    \"chars\"\t472\n",
    "    \"lines\"\t8\n",
    "    \"words\"\t73\n",
    "\n",
    "Nota: Dado un string `s` usa la función `s.split()` para obtener obtener una lista con los conjuntos de caracteres del string que están separados por espacios en blanco o usa la búsqueda por expresiones regulares vista en clase. Usa la función `len` para obtener la longitud de un string o de una lista."
   ]
  },
  {
   "cell_type": "code",
   "execution_count": null,
   "metadata": {
    "collapsed": true
   },
   "outputs": [],
   "source": [
    "%%writefile TextStats.py\n",
    "from mrjob.job import MRJob\n",
    "\n",
    "class TextStats(MRJob):\n",
    "\n",
    "    def mapper(self, _, line):\n",
    "        # TU CODIGO AQUI\n",
    "        yield \"KEY\", \"VALUE\"\n",
    "\n",
    "    def reducer(self, key, values):\n",
    "        # TU CODIGO AQUI\n",
    "        yield \"KEY\", \"VALUE\"\n",
    "        \n",
    "if __name__ == '__main__':\n",
    "    TextStats.run()"
   ]
  },
  {
   "cell_type": "code",
   "execution_count": null,
   "metadata": {
    "collapsed": true
   },
   "outputs": [],
   "source": [
    "%%script python TextStats.py --quiet\n",
    "Ancient influences have helped spawn variant interpretations \n",
    "of the nature of history which have evolved over the centuries \n",
    "and continue to change today. The modern study of history is \n",
    "wide-ranging, and includes the study of specific regions and \n",
    "the study of certain topical or thematical elements of \n",
    "historical investigation. Often history is taught as part of \n",
    "primary and secondary education, and the academic study of \n",
    "history is a major discipline in University studies"
   ]
  },
  {
   "attachments": {},
   "cell_type": "markdown",
   "metadata": {},
   "source": [
    "### Ejercicio 2: Número medio de palabras por línea"
   ]
  },
  {
   "cell_type": "markdown",
   "metadata": {},
   "source": [
    "Completa la clase `LineAverage` para que como resultado final emita únicamente un par _clave, valor_ con el número medio de palabras por línea en el texto de entrada.\n",
    "\n",
    "Para el mismo texto anterior, la salida debería de ser:\n",
    "\n",
    "    \"avg\"\t9.125"
   ]
  },
  {
   "cell_type": "code",
   "execution_count": null,
   "metadata": {
    "collapsed": true
   },
   "outputs": [],
   "source": [
    "%%writefile LineAverage.py\n",
    "from mrjob.job import MRJob\n",
    "import numpy as np\n",
    "\n",
    "class LineAverage(MRJob):\n",
    "\n",
    "    def mapper(self, _, line):\n",
    "        # TU CODIGO AQUI\n",
    "        yield \"KEY\", \"VALUE\"\n",
    "        \n",
    "    def reducer(self, key, values):\n",
    "        # TU CODIGO AQUI\n",
    "        yield \"KEY\", \"VALUE\"\n",
    "        \n",
    "if __name__ == '__main__':\n",
    "    LineAverage.run()"
   ]
  },
  {
   "cell_type": "markdown",
   "metadata": {},
   "source": [
    "verifica que la salida es la esperada y prueba con nuevos valores. <font style=\"color: red\">_Elimina la opción_ `--quiet` _para ver los mensajes de error de tu código si no produce la salida esperada_"
   ]
  },
  {
   "cell_type": "code",
   "execution_count": null,
   "metadata": {
    "collapsed": true,
    "scrolled": true
   },
   "outputs": [],
   "source": [
    "%%script python LineAverage.py -q\n",
    "Ancient influences have helped spawn variant interpretations \n",
    "of the nature of history which have evolved over the centuries \n",
    "and continue to change today. The modern study of history is \n",
    "wide-ranging, and includes the study of specific regions and \n",
    "the study of certain topical or thematical elements of \n",
    "historical investigation. Often history is taught as part of \n",
    "primary and secondary education, and the academic study of \n",
    "history is a major discipline in University studies"
   ]
  },
  {
   "attachments": {},
   "cell_type": "markdown",
   "metadata": {},
   "source": [
    "### Ejercicio 3: Índice invertido"
   ]
  },
  {
   "cell_type": "markdown",
   "metadata": {},
   "source": [
    "Completa la clase `InvertedIndex` implementando un programa map-reduce que cree un indice invertido para una lista de documentos. Es decir, para cada palabra en nuestra colección de documentos el índice invertido no da en qué documentos aparece. Estos índices se usan posteriormente para responder a queries:\n",
    "\n",
    "\n",
    "_Ejemplo de ejecución_ (entrada es en formato **json**)\n",
    "\n",
    "    [\"001\", \"the car is nice\"]\n",
    "    [\"002\", \"that car is mine\"]\n",
    "    [\"003\", \"that shirt is nice\"]  \n",
    "    [\"004\", \"the car is the best\"]\n",
    "    \n",
    "_Resultado_\n",
    "\n",
    "    \"best\"  [\"004\"]\n",
    "    \"car\"   [\"001\", \"002\", \"004\"]\n",
    "    \"is\"    [\"001\", \"002\", \"003\", \"004\"]\n",
    "    \"mine\"  [\"002\"]\n",
    "    \"nice\"  [\"001\", \"003\"]\n",
    "    \"shirt\" [\"003\"]\n",
    "    \"that\"  [\"002\", \"003\"]\n",
    "    \"the\"   [\"001\", \"004\"]\n",
    "\n",
    "_Nota: usa la linea:_\n",
    "\n",
    "    key, text = json.loads(line)\n",
    "\n",
    "_para obtener extraer el id del documento y el texto del mismo del formato **json** _ "
   ]
  },
  {
   "cell_type": "code",
   "execution_count": null,
   "metadata": {},
   "outputs": [],
   "source": [
    "%%writefile InvertedIndex.py\n",
    "from mrjob.job import MRJob\n",
    "import json\n",
    "\n",
    "class InvertedIndex(MRJob):\n",
    "\n",
    "    def mapper(self, _, line):\n",
    "        key, text = json.loads(line)\n",
    "        # TU CODIGO AQUI\n",
    "        yield \"KEY\", \"VALUE\"\n",
    "\n",
    "    def reducer(self, key, values):\n",
    "        docs = []\n",
    "        # TU CODIGO AQUI\n",
    "        yield \"KEY\", \"VALUE\"\n",
    "        \n",
    "if __name__ == '__main__':\n",
    "    InvertedIndex.run()"
   ]
  },
  {
   "attachments": {},
   "cell_type": "markdown",
   "metadata": {},
   "source": [
    "Verifica que la salida es la esperada y prueba con nuevos valores.\n"
   ]
  },
  {
   "cell_type": "code",
   "execution_count": null,
   "metadata": {},
   "outputs": [],
   "source": [
    "%%script python InvertedIndex.py -q \n",
    "[\"001\", \"the car is nice\"]\n",
    "[\"002\", \"that car is mine\"]\n",
    "[\"003\", \"that shirt is nice\"]  \n",
    "[\"004\", \"the car is the best\"]"
   ]
  },
  {
   "cell_type": "code",
   "execution_count": null,
   "metadata": {},
   "outputs": [],
   "source": [
    "%%script python InvertedIndex.py -q \n",
    "[\"001\", \"War is a state of armed conflict between autonomous organizations (such as states and non-state actors) or coalitions of such organizations. It is generally characterized by extreme collective aggression, destruction, and usually high mortality. The set of techniques used by a group to carry out war is known as warfare. An absence of war is usually called peace.\"]\n",
    "[\"032\", \"War must entail some degree of confrontation using weapons and other military technology and equipment by armed forces employing military tactics and operational art within a broad military strategy subject to military logistics.\"]\n",
    "[\"105\", \"While some scholars see warfare as a universal and ancestral aspect of human nature, others argue that it is only a result of specific socio-cultural or ecological circumstances\"]"
   ]
  },
  {
   "attachments": {},
   "cell_type": "markdown",
   "metadata": {},
   "source": [
    "## Ejercicio 4: Suma de Matrices\n",
    "\n",
    "Representamos dos matrices **a** y **b** de 2x2 de la siguiente forma:\n",
    "\n",
    "    [\"a\", 0, 0, 32]\n",
    "    [\"a\", 0, 1, 69]\n",
    "    [\"a\", 1, 0, 18]\n",
    "    [\"a\", 1, 1, 28]\n",
    "    [\"b\", 0, 0, 18]\n",
    "    [\"b\", 0, 1, 69]\n",
    "    [\"b\", 1, 0, 28]\n",
    "    [\"b\", 1, 1, 32]\n",
    "\n",
    "es decir\n",
    "\n",
    "    a = [32 69]     b = [18 69]    a + b = [50 138]\n",
    "        [18 28]         [28 32]            [46  60]\n",
    "        \n",
    "        \n",
    "tienes que implementar un programa map-reduce que acepte como entrada las dos matrices y realice la suma"
   ]
  },
  {
   "cell_type": "code",
   "execution_count": null,
   "metadata": {},
   "outputs": [],
   "source": [
    "%%writefile MatrixSum.py\n",
    "from mrjob.job import MRJob\n",
    "import json\n",
    "\n",
    "class MatrixSum(MRJob):\n",
    "\n",
    "    def mapper(self, _, line):\n",
    "        _, x, y, val = json.loads(line)\n",
    "        # TU CODIGO AQUI\n",
    "        yield \"KEY\", \"VALUE\"\n",
    "\n",
    "    def reducer(self, key, values):\n",
    "        # TU CODIGO AQUI\n",
    "        yield \"KEY\", \"VALUE\"\n",
    "        \n",
    "if __name__ == '__main__':\n",
    "    MatrixSum.run()"
   ]
  },
  {
   "cell_type": "code",
   "execution_count": null,
   "metadata": {},
   "outputs": [],
   "source": [
    "%%script python MatrixSum.py -q \n",
    "[\"a\", 0, 0, 32]\n",
    "[\"a\", 0, 1, 69]\n",
    "[\"a\", 1, 0, 18]\n",
    "[\"a\", 1, 1, 28]\n",
    "[\"b\", 0, 0, 18]\n",
    "[\"b\", 0, 1, 69]\n",
    "[\"b\", 1, 0, 28]\n",
    "[\"b\", 1, 1, 32]"
   ]
  }
 ],
 "metadata": {
  "kernelspec": {
   "display_name": "dip",
   "language": "python",
   "name": "python3"
  },
  "language_info": {
   "codemirror_mode": {
    "name": "ipython",
    "version": 2
   },
   "file_extension": ".py",
   "mimetype": "text/x-python",
   "name": "python",
   "nbconvert_exporter": "python",
   "pygments_lexer": "ipython2",
   "version": "3.9.6"
  },
  "vscode": {
   "interpreter": {
    "hash": "2ee78bf6d3c55ab8d976b00cd533f0c8b1f102162595d6dc238528d9a3be5ad3"
   }
  }
 },
 "nbformat": 4,
 "nbformat_minor": 1
}
